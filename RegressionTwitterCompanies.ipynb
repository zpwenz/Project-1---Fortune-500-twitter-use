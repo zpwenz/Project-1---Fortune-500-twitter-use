{
 "cells": [
  {
   "cell_type": "code",
   "execution_count": 629,
   "metadata": {},
   "outputs": [],
   "source": [
    "import twitter\n",
    "import tweepy\n",
    "import json\n",
    "import pandas as pd\n",
    "import matplotlib.pyplot as plt\n",
    "from config import consumer_secret, consumer_key, access_token_key, access_token_secret, bearer"
   ]
  },
  {
   "cell_type": "code",
   "execution_count": null,
   "metadata": {},
   "outputs": [],
   "source": []
  },
  {
   "cell_type": "code",
   "execution_count": 630,
   "metadata": {},
   "outputs": [],
   "source": [
    "auth = tweepy.OAuthHandler(consumer_key, consumer_secret)\n",
    "auth.set_access_token(access_token_key, access_token_secret)\n",
    "\n",
    "# Creation of the actual interface, using authentication\n",
    "api = tweepy.API(auth, wait_on_rate_limit=True, wait_on_rate_limit_notify=True)"
   ]
  },
  {
   "cell_type": "code",
   "execution_count": 631,
   "metadata": {},
   "outputs": [],
   "source": [
    "def twittercompany(handle):\n",
    "    tweets = tweepy.Cursor(api.user_timeline, screen_name=handle, tweet_mode=\"extended\").items()\n",
    "    tweets_json = []\n",
    "    for tweet in tweets:\n",
    "        tweets_json.append(tweet)\n",
    "\n",
    "    text=[]\n",
    "    favorites = []\n",
    "    retweets = []\n",
    "    tweetdate = []\n",
    "    for tweet in range(0,len(tweets_json)):\n",
    "        #text\n",
    "        textj = tweets_json[tweet].full_text\n",
    "        text.append(textj)\n",
    "        #favorites\n",
    "        favoritesj = tweets_json[tweet].favorite_count\n",
    "        favorites.append(favoritesj)\n",
    "        #retweets\n",
    "        retweetsj = tweets_json[tweet].retweet_count\n",
    "        retweets.append(retweetsj)\n",
    "        #date\n",
    "        datej = tweets_json[tweet].created_at\n",
    "        tweetdate.append(datej)\n",
    "\n",
    "    frame = pd.DataFrame({\"Text\": text, \"Favorites\": favorites, \"Retweets\": retweets, \"Date\": tweetdate})\n",
    "\n",
    "    frame[\"DOW\"] = pd.to_datetime(frame[\"Date\"]).dt.weekday\n",
    "    frame = frame[frame.DOW < 5]\n",
    "\n",
    "    frame[\"Date\"] = pd.to_datetime(frame[\"Date\"])\n",
    "    frame[\"Date\"] = frame[\"Date\"].dt.date\n",
    "    bydate = frame.groupby([\"Date\"]).sum()\n",
    "    bydate['Datevalue'] = bydate.index.astype(str)\n",
    "    bydate['Datevalue'] = bydate['Datevalue'].str.replace('\\D', '').astype(int)\n",
    "    \n",
    "    return bydate"
   ]
  },
  {
   "cell_type": "code",
   "execution_count": 632,
   "metadata": {},
   "outputs": [
    {
     "name": "stderr",
     "output_type": "stream",
     "text": [
      "Rate limit reached. Sleeping for: 384\n",
      "Rate limit reached. Sleeping for: 408\n"
     ]
    },
    {
     "ename": "ValueError",
     "evalue": "array length 15 does not match index length 25",
     "output_type": "error",
     "traceback": [
      "\u001b[1;31m---------------------------------------------------------------------------\u001b[0m",
      "\u001b[1;31mValueError\u001b[0m                                Traceback (most recent call last)",
      "\u001b[1;32m<ipython-input-632-5cb1b3993464>\u001b[0m in \u001b[0;36m<module>\u001b[1;34m\u001b[0m\n\u001b[0;32m     12\u001b[0m     \u001b[0mfvts\u001b[0m\u001b[1;33m.\u001b[0m\u001b[0mappend\u001b[0m\u001b[1;33m(\u001b[0m\u001b[1;36m0\u001b[0m\u001b[1;33m)\u001b[0m\u001b[1;33m\u001b[0m\u001b[1;33m\u001b[0m\u001b[0m\n\u001b[0;32m     13\u001b[0m     \u001b[0mrts\u001b[0m\u001b[1;33m.\u001b[0m\u001b[0mappend\u001b[0m\u001b[1;33m(\u001b[0m\u001b[1;36m0\u001b[0m\u001b[1;33m)\u001b[0m\u001b[1;33m\u001b[0m\u001b[1;33m\u001b[0m\u001b[0m\n\u001b[1;32m---> 14\u001b[1;33m \u001b[0mframe_c\u001b[0m \u001b[1;33m=\u001b[0m \u001b[0mpd\u001b[0m\u001b[1;33m.\u001b[0m\u001b[0mDataFrame\u001b[0m\u001b[1;33m(\u001b[0m\u001b[1;33m{\u001b[0m\u001b[1;34m\"Handle\"\u001b[0m\u001b[1;33m:\u001b[0m \u001b[0mindustries\u001b[0m\u001b[1;33m[\u001b[0m\u001b[1;34m\"Twitter Handle\"\u001b[0m\u001b[1;33m]\u001b[0m\u001b[1;33m.\u001b[0m\u001b[0mhead\u001b[0m\u001b[1;33m(\u001b[0m\u001b[1;36m25\u001b[0m\u001b[1;33m)\u001b[0m\u001b[1;33m,\u001b[0m \u001b[1;34m\"Favorites\"\u001b[0m\u001b[1;33m:\u001b[0m \u001b[0mfvts\u001b[0m\u001b[1;33m,\u001b[0m \u001b[1;34m\"Retweets\"\u001b[0m\u001b[1;33m:\u001b[0m \u001b[0mrts\u001b[0m\u001b[1;33m}\u001b[0m\u001b[1;33m)\u001b[0m\u001b[1;33m\u001b[0m\u001b[1;33m\u001b[0m\u001b[0m\n\u001b[0m\u001b[0;32m     15\u001b[0m \u001b[0mframe_c\u001b[0m\u001b[1;33m\u001b[0m\u001b[1;33m\u001b[0m\u001b[0m\n",
      "\u001b[1;32m~\\Anaconda3\\lib\\site-packages\\pandas\\core\\frame.py\u001b[0m in \u001b[0;36m__init__\u001b[1;34m(self, data, index, columns, dtype, copy)\u001b[0m\n\u001b[0;32m    409\u001b[0m             )\n\u001b[0;32m    410\u001b[0m         \u001b[1;32melif\u001b[0m \u001b[0misinstance\u001b[0m\u001b[1;33m(\u001b[0m\u001b[0mdata\u001b[0m\u001b[1;33m,\u001b[0m \u001b[0mdict\u001b[0m\u001b[1;33m)\u001b[0m\u001b[1;33m:\u001b[0m\u001b[1;33m\u001b[0m\u001b[1;33m\u001b[0m\u001b[0m\n\u001b[1;32m--> 411\u001b[1;33m             \u001b[0mmgr\u001b[0m \u001b[1;33m=\u001b[0m \u001b[0minit_dict\u001b[0m\u001b[1;33m(\u001b[0m\u001b[0mdata\u001b[0m\u001b[1;33m,\u001b[0m \u001b[0mindex\u001b[0m\u001b[1;33m,\u001b[0m \u001b[0mcolumns\u001b[0m\u001b[1;33m,\u001b[0m \u001b[0mdtype\u001b[0m\u001b[1;33m=\u001b[0m\u001b[0mdtype\u001b[0m\u001b[1;33m)\u001b[0m\u001b[1;33m\u001b[0m\u001b[1;33m\u001b[0m\u001b[0m\n\u001b[0m\u001b[0;32m    412\u001b[0m         \u001b[1;32melif\u001b[0m \u001b[0misinstance\u001b[0m\u001b[1;33m(\u001b[0m\u001b[0mdata\u001b[0m\u001b[1;33m,\u001b[0m \u001b[0mma\u001b[0m\u001b[1;33m.\u001b[0m\u001b[0mMaskedArray\u001b[0m\u001b[1;33m)\u001b[0m\u001b[1;33m:\u001b[0m\u001b[1;33m\u001b[0m\u001b[1;33m\u001b[0m\u001b[0m\n\u001b[0;32m    413\u001b[0m             \u001b[1;32mimport\u001b[0m \u001b[0mnumpy\u001b[0m\u001b[1;33m.\u001b[0m\u001b[0mma\u001b[0m\u001b[1;33m.\u001b[0m\u001b[0mmrecords\u001b[0m \u001b[1;32mas\u001b[0m \u001b[0mmrecords\u001b[0m\u001b[1;33m\u001b[0m\u001b[1;33m\u001b[0m\u001b[0m\n",
      "\u001b[1;32m~\\Anaconda3\\lib\\site-packages\\pandas\\core\\internals\\construction.py\u001b[0m in \u001b[0;36minit_dict\u001b[1;34m(data, index, columns, dtype)\u001b[0m\n\u001b[0;32m    255\u001b[0m             \u001b[0marr\u001b[0m \u001b[1;32mif\u001b[0m \u001b[1;32mnot\u001b[0m \u001b[0mis_datetime64tz_dtype\u001b[0m\u001b[1;33m(\u001b[0m\u001b[0marr\u001b[0m\u001b[1;33m)\u001b[0m \u001b[1;32melse\u001b[0m \u001b[0marr\u001b[0m\u001b[1;33m.\u001b[0m\u001b[0mcopy\u001b[0m\u001b[1;33m(\u001b[0m\u001b[1;33m)\u001b[0m \u001b[1;32mfor\u001b[0m \u001b[0marr\u001b[0m \u001b[1;32min\u001b[0m \u001b[0marrays\u001b[0m\u001b[1;33m\u001b[0m\u001b[1;33m\u001b[0m\u001b[0m\n\u001b[0;32m    256\u001b[0m         ]\n\u001b[1;32m--> 257\u001b[1;33m     \u001b[1;32mreturn\u001b[0m \u001b[0marrays_to_mgr\u001b[0m\u001b[1;33m(\u001b[0m\u001b[0marrays\u001b[0m\u001b[1;33m,\u001b[0m \u001b[0mdata_names\u001b[0m\u001b[1;33m,\u001b[0m \u001b[0mindex\u001b[0m\u001b[1;33m,\u001b[0m \u001b[0mcolumns\u001b[0m\u001b[1;33m,\u001b[0m \u001b[0mdtype\u001b[0m\u001b[1;33m=\u001b[0m\u001b[0mdtype\u001b[0m\u001b[1;33m)\u001b[0m\u001b[1;33m\u001b[0m\u001b[1;33m\u001b[0m\u001b[0m\n\u001b[0m\u001b[0;32m    258\u001b[0m \u001b[1;33m\u001b[0m\u001b[0m\n\u001b[0;32m    259\u001b[0m \u001b[1;33m\u001b[0m\u001b[0m\n",
      "\u001b[1;32m~\\Anaconda3\\lib\\site-packages\\pandas\\core\\internals\\construction.py\u001b[0m in \u001b[0;36marrays_to_mgr\u001b[1;34m(arrays, arr_names, index, columns, dtype)\u001b[0m\n\u001b[0;32m     75\u001b[0m     \u001b[1;31m# figure out the index, if necessary\u001b[0m\u001b[1;33m\u001b[0m\u001b[1;33m\u001b[0m\u001b[1;33m\u001b[0m\u001b[0m\n\u001b[0;32m     76\u001b[0m     \u001b[1;32mif\u001b[0m \u001b[0mindex\u001b[0m \u001b[1;32mis\u001b[0m \u001b[1;32mNone\u001b[0m\u001b[1;33m:\u001b[0m\u001b[1;33m\u001b[0m\u001b[1;33m\u001b[0m\u001b[0m\n\u001b[1;32m---> 77\u001b[1;33m         \u001b[0mindex\u001b[0m \u001b[1;33m=\u001b[0m \u001b[0mextract_index\u001b[0m\u001b[1;33m(\u001b[0m\u001b[0marrays\u001b[0m\u001b[1;33m)\u001b[0m\u001b[1;33m\u001b[0m\u001b[1;33m\u001b[0m\u001b[0m\n\u001b[0m\u001b[0;32m     78\u001b[0m     \u001b[1;32melse\u001b[0m\u001b[1;33m:\u001b[0m\u001b[1;33m\u001b[0m\u001b[1;33m\u001b[0m\u001b[0m\n\u001b[0;32m     79\u001b[0m         \u001b[0mindex\u001b[0m \u001b[1;33m=\u001b[0m \u001b[0mensure_index\u001b[0m\u001b[1;33m(\u001b[0m\u001b[0mindex\u001b[0m\u001b[1;33m)\u001b[0m\u001b[1;33m\u001b[0m\u001b[1;33m\u001b[0m\u001b[0m\n",
      "\u001b[1;32m~\\Anaconda3\\lib\\site-packages\\pandas\\core\\internals\\construction.py\u001b[0m in \u001b[0;36mextract_index\u001b[1;34m(data)\u001b[0m\n\u001b[0;32m    379\u001b[0m                         \u001b[1;34m\"length {idx_len}\"\u001b[0m\u001b[1;33m.\u001b[0m\u001b[0mformat\u001b[0m\u001b[1;33m(\u001b[0m\u001b[0mlength\u001b[0m\u001b[1;33m=\u001b[0m\u001b[0mlengths\u001b[0m\u001b[1;33m[\u001b[0m\u001b[1;36m0\u001b[0m\u001b[1;33m]\u001b[0m\u001b[1;33m,\u001b[0m \u001b[0midx_len\u001b[0m\u001b[1;33m=\u001b[0m\u001b[0mlen\u001b[0m\u001b[1;33m(\u001b[0m\u001b[0mindex\u001b[0m\u001b[1;33m)\u001b[0m\u001b[1;33m)\u001b[0m\u001b[1;33m\u001b[0m\u001b[1;33m\u001b[0m\u001b[0m\n\u001b[0;32m    380\u001b[0m                     )\n\u001b[1;32m--> 381\u001b[1;33m                     \u001b[1;32mraise\u001b[0m \u001b[0mValueError\u001b[0m\u001b[1;33m(\u001b[0m\u001b[0mmsg\u001b[0m\u001b[1;33m)\u001b[0m\u001b[1;33m\u001b[0m\u001b[1;33m\u001b[0m\u001b[0m\n\u001b[0m\u001b[0;32m    382\u001b[0m             \u001b[1;32melse\u001b[0m\u001b[1;33m:\u001b[0m\u001b[1;33m\u001b[0m\u001b[1;33m\u001b[0m\u001b[0m\n\u001b[0;32m    383\u001b[0m                 \u001b[0mindex\u001b[0m \u001b[1;33m=\u001b[0m \u001b[0mibase\u001b[0m\u001b[1;33m.\u001b[0m\u001b[0mdefault_index\u001b[0m\u001b[1;33m(\u001b[0m\u001b[0mlengths\u001b[0m\u001b[1;33m[\u001b[0m\u001b[1;36m0\u001b[0m\u001b[1;33m]\u001b[0m\u001b[1;33m)\u001b[0m\u001b[1;33m\u001b[0m\u001b[1;33m\u001b[0m\u001b[0m\n",
      "\u001b[1;31mValueError\u001b[0m: array length 15 does not match index length 25"
     ]
    }
   ],
   "source": [
    "industries = pd.read_csv(\"https://raw.githubusercontent.com/zpwenz/Project-1---Fortune-500-twitter-use/ZA/ticker_list.csv\")\n",
    "fvts = []\n",
    "rts = []\n",
    "try:\n",
    "    for handle in industries[\"Twitter Handle\"].head(25):\n",
    "        ctwitter = twittercompany(handle)\n",
    "        mean_f = ctwitter[\"Favorites\"].mean()\n",
    "        mean_r = ctwitter[\"Retweets\"].mean()\n",
    "        fvts.append(mean_f)\n",
    "        rts.append(mean_r)\n",
    "except:\n",
    "    fvts.append(0)\n",
    "    rts.append(0)\n",
    "frame_c = pd.DataFrame({\"Handle\": industries[\"Twitter Handle\"].head(25), \"Favorites\": fvts, \"Retweets\": rts})\n",
    "frame_c"
   ]
  },
  {
   "cell_type": "code",
   "execution_count": 633,
   "metadata": {},
   "outputs": [
    {
     "data": {
      "text/html": [
       "<div>\n",
       "<style scoped>\n",
       "    .dataframe tbody tr th:only-of-type {\n",
       "        vertical-align: middle;\n",
       "    }\n",
       "\n",
       "    .dataframe tbody tr th {\n",
       "        vertical-align: top;\n",
       "    }\n",
       "\n",
       "    .dataframe thead th {\n",
       "        text-align: right;\n",
       "    }\n",
       "</style>\n",
       "<table border=\"1\" class=\"dataframe\">\n",
       "  <thead>\n",
       "    <tr style=\"text-align: right;\">\n",
       "      <th></th>\n",
       "      <th>Handle</th>\n",
       "      <th>Favorites</th>\n",
       "      <th>Retweets</th>\n",
       "    </tr>\n",
       "  </thead>\n",
       "  <tbody>\n",
       "    <tr>\n",
       "      <td>0</td>\n",
       "      <td>walmart</td>\n",
       "      <td>1638.419355</td>\n",
       "      <td>615.354839</td>\n",
       "    </tr>\n",
       "    <tr>\n",
       "      <td>1</td>\n",
       "      <td>exxonmobil</td>\n",
       "      <td>172.273942</td>\n",
       "      <td>121.187082</td>\n",
       "    </tr>\n",
       "    <tr>\n",
       "      <td>2</td>\n",
       "      <td>Apple</td>\n",
       "      <td>NaN</td>\n",
       "      <td>NaN</td>\n",
       "    </tr>\n",
       "    <tr>\n",
       "      <td>3</td>\n",
       "      <td>BHHSRealEstate</td>\n",
       "      <td>9.677355</td>\n",
       "      <td>10.095190</td>\n",
       "    </tr>\n",
       "    <tr>\n",
       "      <td>4</td>\n",
       "      <td>McKesson</td>\n",
       "      <td>5.028409</td>\n",
       "      <td>4.198864</td>\n",
       "    </tr>\n",
       "  </tbody>\n",
       "</table>\n",
       "</div>"
      ],
      "text/plain": [
       "           Handle    Favorites    Retweets\n",
       "0         walmart  1638.419355  615.354839\n",
       "1      exxonmobil   172.273942  121.187082\n",
       "2           Apple          NaN         NaN\n",
       "3  BHHSRealEstate     9.677355   10.095190\n",
       "4        McKesson     5.028409    4.198864"
      ]
     },
     "execution_count": 633,
     "metadata": {},
     "output_type": "execute_result"
    }
   ],
   "source": [
    "frame_c"
   ]
  },
  {
   "cell_type": "code",
   "execution_count": null,
   "metadata": {},
   "outputs": [],
   "source": []
  },
  {
   "cell_type": "code",
   "execution_count": 92,
   "metadata": {},
   "outputs": [
    {
     "data": {
      "text/html": [
       "<div>\n",
       "<style scoped>\n",
       "    .dataframe tbody tr th:only-of-type {\n",
       "        vertical-align: middle;\n",
       "    }\n",
       "\n",
       "    .dataframe tbody tr th {\n",
       "        vertical-align: top;\n",
       "    }\n",
       "\n",
       "    .dataframe thead th {\n",
       "        text-align: right;\n",
       "    }\n",
       "</style>\n",
       "<table border=\"1\" class=\"dataframe\">\n",
       "  <thead>\n",
       "    <tr style=\"text-align: right;\">\n",
       "      <th></th>\n",
       "      <th>Favorites</th>\n",
       "      <th>Retweets</th>\n",
       "      <th>DOW</th>\n",
       "      <th>Datevalue</th>\n",
       "    </tr>\n",
       "    <tr>\n",
       "      <th>Date</th>\n",
       "      <th></th>\n",
       "      <th></th>\n",
       "      <th></th>\n",
       "      <th></th>\n",
       "    </tr>\n",
       "  </thead>\n",
       "  <tbody>\n",
       "    <tr>\n",
       "      <td>2018-01-22</td>\n",
       "      <td>3</td>\n",
       "      <td>1</td>\n",
       "      <td>0</td>\n",
       "      <td>20180122</td>\n",
       "    </tr>\n",
       "    <tr>\n",
       "      <td>2018-01-23</td>\n",
       "      <td>2713</td>\n",
       "      <td>3168</td>\n",
       "      <td>9</td>\n",
       "      <td>20180123</td>\n",
       "    </tr>\n",
       "    <tr>\n",
       "      <td>2018-01-24</td>\n",
       "      <td>17</td>\n",
       "      <td>8</td>\n",
       "      <td>24</td>\n",
       "      <td>20180124</td>\n",
       "    </tr>\n",
       "    <tr>\n",
       "      <td>2018-01-25</td>\n",
       "      <td>13</td>\n",
       "      <td>18</td>\n",
       "      <td>21</td>\n",
       "      <td>20180125</td>\n",
       "    </tr>\n",
       "    <tr>\n",
       "      <td>2018-01-26</td>\n",
       "      <td>25</td>\n",
       "      <td>4</td>\n",
       "      <td>60</td>\n",
       "      <td>20180126</td>\n",
       "    </tr>\n",
       "    <tr>\n",
       "      <td>...</td>\n",
       "      <td>...</td>\n",
       "      <td>...</td>\n",
       "      <td>...</td>\n",
       "      <td>...</td>\n",
       "    </tr>\n",
       "    <tr>\n",
       "      <td>2019-12-10</td>\n",
       "      <td>860</td>\n",
       "      <td>229</td>\n",
       "      <td>10</td>\n",
       "      <td>20191210</td>\n",
       "    </tr>\n",
       "    <tr>\n",
       "      <td>2019-12-11</td>\n",
       "      <td>18</td>\n",
       "      <td>2</td>\n",
       "      <td>8</td>\n",
       "      <td>20191211</td>\n",
       "    </tr>\n",
       "    <tr>\n",
       "      <td>2019-12-13</td>\n",
       "      <td>8</td>\n",
       "      <td>0</td>\n",
       "      <td>16</td>\n",
       "      <td>20191213</td>\n",
       "    </tr>\n",
       "    <tr>\n",
       "      <td>2019-12-16</td>\n",
       "      <td>4</td>\n",
       "      <td>0</td>\n",
       "      <td>0</td>\n",
       "      <td>20191216</td>\n",
       "    </tr>\n",
       "    <tr>\n",
       "      <td>2019-12-17</td>\n",
       "      <td>4</td>\n",
       "      <td>1</td>\n",
       "      <td>3</td>\n",
       "      <td>20191217</td>\n",
       "    </tr>\n",
       "  </tbody>\n",
       "</table>\n",
       "<p>471 rows × 4 columns</p>\n",
       "</div>"
      ],
      "text/plain": [
       "            Favorites  Retweets  DOW  Datevalue\n",
       "Date                                           \n",
       "2018-01-22          3         1    0   20180122\n",
       "2018-01-23       2713      3168    9   20180123\n",
       "2018-01-24         17         8   24   20180124\n",
       "2018-01-25         13        18   21   20180125\n",
       "2018-01-26         25         4   60   20180126\n",
       "...               ...       ...  ...        ...\n",
       "2019-12-10        860       229   10   20191210\n",
       "2019-12-11         18         2    8   20191211\n",
       "2019-12-13          8         0   16   20191213\n",
       "2019-12-16          4         0    0   20191216\n",
       "2019-12-17          4         1    3   20191217\n",
       "\n",
       "[471 rows x 4 columns]"
      ]
     },
     "execution_count": 92,
     "metadata": {},
     "output_type": "execute_result"
    }
   ],
   "source": [
    "twitter = twittercompany(\"Nike\")"
   ]
  },
  {
   "cell_type": "code",
   "execution_count": 128,
   "metadata": {},
   "outputs": [],
   "source": [
    "google = twittercompany(\"Google\")"
   ]
  },
  {
   "cell_type": "code",
   "execution_count": 416,
   "metadata": {},
   "outputs": [],
   "source": [
    "Disneytwitter = twittercompany(\"Disney\")"
   ]
  },
  {
   "cell_type": "code",
   "execution_count": 251,
   "metadata": {},
   "outputs": [],
   "source": [
    "Microsofttwitter = twittercompany(\"Microsoft\")"
   ]
  },
  {
   "cell_type": "code",
   "execution_count": 265,
   "metadata": {},
   "outputs": [],
   "source": [
    "Inteltwitter = twittercompany(\"intel\")"
   ]
  },
  {
   "cell_type": "code",
   "execution_count": 386,
   "metadata": {},
   "outputs": [],
   "source": [
    "#Apple does not tweet, creating dataframe with dates and all zeros\n",
    "Appletwitter = Disneytwitter\n",
    "Appletwitter[\"Retweets\"] = 0\n",
    "Appletwitter[\"Favorites\"] = 0"
   ]
  },
  {
   "cell_type": "code",
   "execution_count": 444,
   "metadata": {},
   "outputs": [],
   "source": [
    "Cocacolatwitter = twittercompany(\"CocaCola\")"
   ]
  },
  {
   "cell_type": "code",
   "execution_count": 457,
   "metadata": {},
   "outputs": [],
   "source": [
    "Amazontwitter = twittercompany(\"amazon\")"
   ]
  },
  {
   "cell_type": "code",
   "execution_count": 472,
   "metadata": {},
   "outputs": [],
   "source": [
    "Targettwitter = twittercompany(\"Target\")\n",
    "Verizontwitter = twittercompany(\"verizon\")\n"
   ]
  },
  {
   "cell_type": "code",
   "execution_count": 487,
   "metadata": {},
   "outputs": [],
   "source": []
  },
  {
   "cell_type": "code",
   "execution_count": null,
   "metadata": {},
   "outputs": [],
   "source": []
  },
  {
   "cell_type": "code",
   "execution_count": null,
   "metadata": {},
   "outputs": [],
   "source": []
  },
  {
   "cell_type": "code",
   "execution_count": 93,
   "metadata": {},
   "outputs": [],
   "source": [
    "import json\n",
    "import requests\n",
    "import pandas as pd\n",
    "from config import stock_key\n",
    "import pprint"
   ]
  },
  {
   "cell_type": "code",
   "execution_count": 485,
   "metadata": {},
   "outputs": [],
   "source": [
    "def companystock(symbol):\n",
    "    url = \"https://www.alphavantage.co/\"\n",
    "    symbol = symbol\n",
    "    query_url = url + \"query?function=TIME_SERIES_DAILY&symbol=\" + symbol +\"&apikey=\" + stock_key\n",
    "\n",
    "    response = requests.get(url)\n",
    "    stock_response = requests.get(query_url)\n",
    "    stock_json = stock_response.json()\n",
    "\n",
    "    stock_response = requests.get(query_url)\n",
    "\n",
    "    stock_json = stock_response.json()\n",
    "    stock_list =[]\n",
    "    stock_info =[]\n",
    "    for key, value in stock_json.items():\n",
    "        stock_list.append([key,value])\n",
    "\n",
    "\n",
    "\n",
    "    for key, value in stock_list[1][1].items():\n",
    "        stock_day = []\n",
    "        stock_day.append(key)\n",
    "        for col, item in value.items():\n",
    "            stock_day.append(item)\n",
    "        stock_info.append(stock_day)\n",
    "\n",
    "    df_stock_json = pd.DataFrame(stock_info)\n",
    "\n",
    "    df_stock_json.columns =[\"Date\", 'Open', 'High', 'Low', 'Close', 'Volume']\n",
    "    \n",
    "    close_list = []\n",
    "    df_stock_json[\"Close\"] =df_stock_json[\"Close\"].astype(float)\n",
    "    #df_stock_json[\"Close\"] = (df_stock_json[\"Close\"] - df_stock_json[\"Close\"].mean())/df_stock_json[\"Close\"].std()\n",
    "    df_stock_json = df_stock_json.sort_values(by = \"Date\", ascending = True, )\n",
    "    df_stock_json = df_stock_json.reset_index(drop=True)\n",
    "    df_stock_json['Datevalue'] = df_stock_json['Date'].astype(str)\n",
    "    df_stock_json['Datevalue'] = df_stock_json['Datevalue'].str.replace('\\D', '').astype(int)\n",
    "\n",
    "    return df_stock_json\n"
   ]
  },
  {
   "cell_type": "code",
   "execution_count": 95,
   "metadata": {},
   "outputs": [
    {
     "data": {
      "text/html": [
       "<div>\n",
       "<style scoped>\n",
       "    .dataframe tbody tr th:only-of-type {\n",
       "        vertical-align: middle;\n",
       "    }\n",
       "\n",
       "    .dataframe tbody tr th {\n",
       "        vertical-align: top;\n",
       "    }\n",
       "\n",
       "    .dataframe thead th {\n",
       "        text-align: right;\n",
       "    }\n",
       "</style>\n",
       "<table border=\"1\" class=\"dataframe\">\n",
       "  <thead>\n",
       "    <tr style=\"text-align: right;\">\n",
       "      <th></th>\n",
       "      <th>Date</th>\n",
       "      <th>Open</th>\n",
       "      <th>High</th>\n",
       "      <th>Low</th>\n",
       "      <th>Close</th>\n",
       "      <th>Volume</th>\n",
       "      <th>Datevalue</th>\n",
       "    </tr>\n",
       "  </thead>\n",
       "  <tbody>\n",
       "    <tr>\n",
       "      <td>0</td>\n",
       "      <td>2019-07-29</td>\n",
       "      <td>87.6500</td>\n",
       "      <td>87.8700</td>\n",
       "      <td>87.1800</td>\n",
       "      <td>87.62</td>\n",
       "      <td>4387337</td>\n",
       "      <td>20190729</td>\n",
       "    </tr>\n",
       "    <tr>\n",
       "      <td>1</td>\n",
       "      <td>2019-07-30</td>\n",
       "      <td>86.8200</td>\n",
       "      <td>87.9108</td>\n",
       "      <td>86.3600</td>\n",
       "      <td>87.20</td>\n",
       "      <td>3562999</td>\n",
       "      <td>20190730</td>\n",
       "    </tr>\n",
       "    <tr>\n",
       "      <td>2</td>\n",
       "      <td>2019-07-31</td>\n",
       "      <td>87.0900</td>\n",
       "      <td>87.2700</td>\n",
       "      <td>85.5500</td>\n",
       "      <td>86.03</td>\n",
       "      <td>5818168</td>\n",
       "      <td>20190731</td>\n",
       "    </tr>\n",
       "    <tr>\n",
       "      <td>3</td>\n",
       "      <td>2019-08-01</td>\n",
       "      <td>85.2600</td>\n",
       "      <td>86.7700</td>\n",
       "      <td>82.7000</td>\n",
       "      <td>83.12</td>\n",
       "      <td>7871849</td>\n",
       "      <td>20190801</td>\n",
       "    </tr>\n",
       "    <tr>\n",
       "      <td>4</td>\n",
       "      <td>2019-08-02</td>\n",
       "      <td>82.5300</td>\n",
       "      <td>83.2400</td>\n",
       "      <td>80.7900</td>\n",
       "      <td>81.14</td>\n",
       "      <td>8761409</td>\n",
       "      <td>20190802</td>\n",
       "    </tr>\n",
       "    <tr>\n",
       "      <td>...</td>\n",
       "      <td>...</td>\n",
       "      <td>...</td>\n",
       "      <td>...</td>\n",
       "      <td>...</td>\n",
       "      <td>...</td>\n",
       "      <td>...</td>\n",
       "      <td>...</td>\n",
       "    </tr>\n",
       "    <tr>\n",
       "      <td>95</td>\n",
       "      <td>2019-12-11</td>\n",
       "      <td>96.9000</td>\n",
       "      <td>97.3200</td>\n",
       "      <td>96.6500</td>\n",
       "      <td>97.18</td>\n",
       "      <td>4292584</td>\n",
       "      <td>20191211</td>\n",
       "    </tr>\n",
       "    <tr>\n",
       "      <td>96</td>\n",
       "      <td>2019-12-12</td>\n",
       "      <td>97.3200</td>\n",
       "      <td>98.1800</td>\n",
       "      <td>96.9000</td>\n",
       "      <td>97.72</td>\n",
       "      <td>4762665</td>\n",
       "      <td>20191212</td>\n",
       "    </tr>\n",
       "    <tr>\n",
       "      <td>97</td>\n",
       "      <td>2019-12-13</td>\n",
       "      <td>97.4300</td>\n",
       "      <td>98.2900</td>\n",
       "      <td>96.9100</td>\n",
       "      <td>97.77</td>\n",
       "      <td>5247551</td>\n",
       "      <td>20191213</td>\n",
       "    </tr>\n",
       "    <tr>\n",
       "      <td>98</td>\n",
       "      <td>2019-12-16</td>\n",
       "      <td>98.1400</td>\n",
       "      <td>99.3400</td>\n",
       "      <td>98.0600</td>\n",
       "      <td>98.81</td>\n",
       "      <td>8211270</td>\n",
       "      <td>20191216</td>\n",
       "    </tr>\n",
       "    <tr>\n",
       "      <td>99</td>\n",
       "      <td>2019-12-17</td>\n",
       "      <td>99.3800</td>\n",
       "      <td>100.1700</td>\n",
       "      <td>99.0500</td>\n",
       "      <td>99.65</td>\n",
       "      <td>6774117</td>\n",
       "      <td>20191217</td>\n",
       "    </tr>\n",
       "  </tbody>\n",
       "</table>\n",
       "<p>100 rows × 7 columns</p>\n",
       "</div>"
      ],
      "text/plain": [
       "          Date     Open      High      Low  Close   Volume  Datevalue\n",
       "0   2019-07-29  87.6500   87.8700  87.1800  87.62  4387337   20190729\n",
       "1   2019-07-30  86.8200   87.9108  86.3600  87.20  3562999   20190730\n",
       "2   2019-07-31  87.0900   87.2700  85.5500  86.03  5818168   20190731\n",
       "3   2019-08-01  85.2600   86.7700  82.7000  83.12  7871849   20190801\n",
       "4   2019-08-02  82.5300   83.2400  80.7900  81.14  8761409   20190802\n",
       "..         ...      ...       ...      ...    ...      ...        ...\n",
       "95  2019-12-11  96.9000   97.3200  96.6500  97.18  4292584   20191211\n",
       "96  2019-12-12  97.3200   98.1800  96.9000  97.72  4762665   20191212\n",
       "97  2019-12-13  97.4300   98.2900  96.9100  97.77  5247551   20191213\n",
       "98  2019-12-16  98.1400   99.3400  98.0600  98.81  8211270   20191216\n",
       "99  2019-12-17  99.3800  100.1700  99.0500  99.65  6774117   20191217\n",
       "\n",
       "[100 rows x 7 columns]"
      ]
     },
     "execution_count": 95,
     "metadata": {},
     "output_type": "execute_result"
    }
   ],
   "source": [
    "stock = companystock(\"NKE\")\n"
   ]
  },
  {
   "cell_type": "code",
   "execution_count": 129,
   "metadata": {},
   "outputs": [],
   "source": [
    "googlestock = companystock(\"GOOGL\")"
   ]
  },
  {
   "cell_type": "code",
   "execution_count": 141,
   "metadata": {},
   "outputs": [],
   "source": [
    "disneystock = companystock(\"DIS\")"
   ]
  },
  {
   "cell_type": "code",
   "execution_count": 250,
   "metadata": {},
   "outputs": [],
   "source": [
    "microsoftstock = companystock(\"MSFT\")"
   ]
  },
  {
   "cell_type": "code",
   "execution_count": 266,
   "metadata": {},
   "outputs": [],
   "source": [
    "intelstock = companystock(\"INTC\")"
   ]
  },
  {
   "cell_type": "code",
   "execution_count": 375,
   "metadata": {},
   "outputs": [],
   "source": [
    "applestock = companystock(\"AAPL\")"
   ]
  },
  {
   "cell_type": "code",
   "execution_count": 445,
   "metadata": {},
   "outputs": [],
   "source": [
    "cocacolastock = companystock(\"KO\")"
   ]
  },
  {
   "cell_type": "code",
   "execution_count": 458,
   "metadata": {},
   "outputs": [],
   "source": [
    "amazonstock = companystock(\"AMZN\")"
   ]
  },
  {
   "cell_type": "code",
   "execution_count": 480,
   "metadata": {},
   "outputs": [],
   "source": [
    "targetstock = companystock(\"TGT\")\n",
    "verizonstock = companystock(\"VZ\")"
   ]
  },
  {
   "cell_type": "code",
   "execution_count": 484,
   "metadata": {},
   "outputs": [],
   "source": []
  },
  {
   "cell_type": "code",
   "execution_count": 486,
   "metadata": {},
   "outputs": [],
   "source": []
  },
  {
   "cell_type": "code",
   "execution_count": 492,
   "metadata": {},
   "outputs": [],
   "source": [
    "import re \n",
    "import tweepy \n",
    "from tweepy import OAuthHandler \n",
    "from textblob import TextBlob \n",
    "def clean_tweet(tweet): \n",
    "        return ' '.join(re.sub(\"(@[A-Za-z0-9]+)|([^0-9A-Za-z \\t])|(\\w+:\\/\\/\\S+)\", \" \", tweet).split()) \n",
    "def get_tweet_sentiment(tweet): \n",
    "        # create TextBlob object of passed tweet text \n",
    "        analysis = TextBlob(clean_tweet(tweet)) \n",
    "        # set sentiment \n",
    "        return analysis.sentiment.polarity\n",
    "import datetime\n",
    "import numpy as np\n",
    "\n",
    "def sentimentdaily(search, startyear, startmonth, startday, endyear, endmonth, endday):\n",
    "    start_date=datetime.date(startyear,startmonth,startday)\n",
    "    end_date=datetime.date(endyear,endmonth,endday)\n",
    "    difference= (end_date-start_date).days+1\n",
    "    dates = []\n",
    "    for d in range(difference):\n",
    "            date = start_date+datetime.timedelta(d)\n",
    "            dates.append(date)\n",
    "    from searchtweets import ResultStream, gen_rule_payload, load_credentials\n",
    "    premium_search_args = load_credentials(filename=\"credentials2.yml\",\n",
    "                     yaml_key=\"search_tweets_premium_example\",\n",
    "                     env_overwrite=True)\n",
    "    from searchtweets import collect_results\n",
    "    publict = []\n",
    "    created_at = []\n",
    "    sentiment = []\n",
    "    means = []\n",
    "    for n in range(0, len(dates)-1):\n",
    "        rule = gen_rule_payload(search, results_per_call=100, from_date=str(dates[n]), to_date=str(dates[n+1]))\n",
    "        public = collect_results(rule,\n",
    "                             max_results=100,\n",
    "                             result_stream_args=premium_search_args)        \n",
    "        for tweet in public:\n",
    "                publict.append(tweet.text)\n",
    "        for tweet in range(1, len(publict)):\n",
    "                sentiment.append(get_tweet_sentiment(clean_tweet(publict[tweet])))\n",
    "        score = np.mean(sentiment)\n",
    "        means.append(score)\n",
    "    Sentimentbyday = pd.DataFrame({\"Date\": dates[:-1], \"Sentiment\": means})\n",
    "    Sentimentbyday[\"DOW\"] = pd.to_datetime(Sentimentbyday[\"Date\"]).dt.weekday\n",
    "    Sentimentbyday = Sentimentbyday[Sentimentbyday.DOW < 5]\n",
    "    Sentimentbyday['Datevalue'] = Sentimentbyday['Date'].astype(str)\n",
    "    Sentimentbyday['Datevalue'] = Sentimentbyday['Datevalue'].str.replace('\\D', '').astype(int)\n",
    "    return Sentimentbyday"
   ]
  },
  {
   "cell_type": "code",
   "execution_count": null,
   "metadata": {},
   "outputs": [],
   "source": []
  },
  {
   "cell_type": "code",
   "execution_count": 101,
   "metadata": {},
   "outputs": [],
   "source": [
    "sentiment = sentimentdaily(\"Nike\", 2019, 11, 20, 2019, 12, 16)"
   ]
  },
  {
   "cell_type": "code",
   "execution_count": 130,
   "metadata": {},
   "outputs": [
    {
     "name": "stderr",
     "output_type": "stream",
     "text": [
      "C:\\Users\\Owner\\Anaconda3\\lib\\site-packages\\searchtweets\\credentials.py:34: YAMLLoadWarning: calling yaml.load() without Loader=... is deprecated, as the default Loader is unsafe. Please read https://msg.pyyaml.org/load for full details.\n",
      "  search_creds = yaml.load(f)[yaml_key]\n"
     ]
    }
   ],
   "source": [
    "sentimentgoogle = sentimentdaily(\"Google\", 2019, 11, 20, 2019, 12, 16)"
   ]
  },
  {
   "cell_type": "code",
   "execution_count": 142,
   "metadata": {},
   "outputs": [],
   "source": [
    "sentimentdisney = sentimentdaily(\"Disney\", 2019, 11, 20, 2019, 12, 16)"
   ]
  },
  {
   "cell_type": "code",
   "execution_count": 252,
   "metadata": {},
   "outputs": [
    {
     "name": "stderr",
     "output_type": "stream",
     "text": [
      "C:\\Users\\Owner\\Anaconda3\\lib\\site-packages\\searchtweets\\credentials.py:34: YAMLLoadWarning: calling yaml.load() without Loader=... is deprecated, as the default Loader is unsafe. Please read https://msg.pyyaml.org/load for full details.\n",
      "  search_creds = yaml.load(f)[yaml_key]\n"
     ]
    }
   ],
   "source": [
    "sentimentmicrosoft = sentimentdaily(\"Microsoft\", 2019, 11, 20, 2019, 12, 16)"
   ]
  },
  {
   "cell_type": "code",
   "execution_count": 270,
   "metadata": {},
   "outputs": [
    {
     "name": "stderr",
     "output_type": "stream",
     "text": [
      "Grabbing bearer token from OAUTH\n"
     ]
    }
   ],
   "source": [
    "sentimentintel = sentimentdaily(\"Intel\", 2019, 11, 20, 2019, 12, 16)"
   ]
  },
  {
   "cell_type": "code",
   "execution_count": 367,
   "metadata": {},
   "outputs": [
    {
     "name": "stderr",
     "output_type": "stream",
     "text": [
      "C:\\Users\\Owner\\Anaconda3\\lib\\site-packages\\searchtweets\\credentials.py:34: YAMLLoadWarning: calling yaml.load() without Loader=... is deprecated, as the default Loader is unsafe. Please read https://msg.pyyaml.org/load for full details.\n",
      "  search_creds = yaml.load(f)[yaml_key]\n",
      "Grabbing bearer token from OAUTH\n"
     ]
    }
   ],
   "source": [
    "sentimentapple = sentimentdaily(\"Apple\", 2019, 11, 20, 2019, 12, 16)"
   ]
  },
  {
   "cell_type": "code",
   "execution_count": 446,
   "metadata": {},
   "outputs": [
    {
     "name": "stderr",
     "output_type": "stream",
     "text": [
      "C:\\Users\\Owner\\Anaconda3\\lib\\site-packages\\searchtweets\\credentials.py:34: YAMLLoadWarning: calling yaml.load() without Loader=... is deprecated, as the default Loader is unsafe. Please read https://msg.pyyaml.org/load for full details.\n",
      "  search_creds = yaml.load(f)[yaml_key]\n",
      "Grabbing bearer token from OAUTH\n"
     ]
    }
   ],
   "source": [
    "sentimentcocacola = sentimentdaily(\"Coke\", 2019, 11, 20, 2019, 12, 16)"
   ]
  },
  {
   "cell_type": "code",
   "execution_count": 459,
   "metadata": {},
   "outputs": [
    {
     "name": "stderr",
     "output_type": "stream",
     "text": [
      "C:\\Users\\Owner\\Anaconda3\\lib\\site-packages\\searchtweets\\credentials.py:34: YAMLLoadWarning: calling yaml.load() without Loader=... is deprecated, as the default Loader is unsafe. Please read https://msg.pyyaml.org/load for full details.\n",
      "  search_creds = yaml.load(f)[yaml_key]\n",
      "Grabbing bearer token from OAUTH\n"
     ]
    }
   ],
   "source": [
    "sentimentamazon = sentimentdaily(\"Amazon\", 2019, 11, 20, 2019, 12, 16)"
   ]
  },
  {
   "cell_type": "code",
   "execution_count": 488,
   "metadata": {},
   "outputs": [
    {
     "name": "stderr",
     "output_type": "stream",
     "text": [
      "C:\\Users\\Owner\\Anaconda3\\lib\\site-packages\\searchtweets\\credentials.py:34: YAMLLoadWarning: calling yaml.load() without Loader=... is deprecated, as the default Loader is unsafe. Please read https://msg.pyyaml.org/load for full details.\n",
      "  search_creds = yaml.load(f)[yaml_key]\n",
      "Grabbing bearer token from OAUTH\n",
      "Grabbing bearer token from OAUTH\n",
      "retrying request; current status code: 429\n",
      "retrying request; current status code: 429\n",
      "retrying request; current status code: 429\n",
      "HTTP Error code: 429: Exceeded rate limit\n",
      "Rule payload: {'query': 'Verizon', 'maxResults': 100, 'toDate': '201911240000', 'fromDate': '201911230000'}\n"
     ]
    },
    {
     "ename": "HTTPError",
     "evalue": "",
     "output_type": "error",
     "traceback": [
      "\u001b[1;31m---------------------------------------------------------------------------\u001b[0m",
      "\u001b[1;31mHTTPError\u001b[0m                                 Traceback (most recent call last)",
      "\u001b[1;32m<ipython-input-488-ee342fc12092>\u001b[0m in \u001b[0;36m<module>\u001b[1;34m\u001b[0m\n\u001b[0;32m      1\u001b[0m \u001b[0msentimenttarget\u001b[0m \u001b[1;33m=\u001b[0m \u001b[0msentimentdaily\u001b[0m\u001b[1;33m(\u001b[0m\u001b[1;34m\"Target\"\u001b[0m\u001b[1;33m,\u001b[0m \u001b[1;36m2019\u001b[0m\u001b[1;33m,\u001b[0m \u001b[1;36m11\u001b[0m\u001b[1;33m,\u001b[0m \u001b[1;36m20\u001b[0m\u001b[1;33m,\u001b[0m \u001b[1;36m2019\u001b[0m\u001b[1;33m,\u001b[0m \u001b[1;36m12\u001b[0m\u001b[1;33m,\u001b[0m \u001b[1;36m16\u001b[0m\u001b[1;33m)\u001b[0m\u001b[1;33m\u001b[0m\u001b[1;33m\u001b[0m\u001b[0m\n\u001b[1;32m----> 2\u001b[1;33m \u001b[0msentimentverizon\u001b[0m \u001b[1;33m=\u001b[0m \u001b[0msentimentdaily\u001b[0m\u001b[1;33m(\u001b[0m\u001b[1;34m\"Verizon\"\u001b[0m\u001b[1;33m,\u001b[0m \u001b[1;36m2019\u001b[0m\u001b[1;33m,\u001b[0m \u001b[1;36m11\u001b[0m\u001b[1;33m,\u001b[0m \u001b[1;36m20\u001b[0m\u001b[1;33m,\u001b[0m \u001b[1;36m2019\u001b[0m\u001b[1;33m,\u001b[0m \u001b[1;36m12\u001b[0m\u001b[1;33m,\u001b[0m \u001b[1;36m16\u001b[0m\u001b[1;33m)\u001b[0m\u001b[1;33m\u001b[0m\u001b[1;33m\u001b[0m\u001b[0m\n\u001b[0m\u001b[0;32m      3\u001b[0m \u001b[0msentimentaa\u001b[0m \u001b[1;33m=\u001b[0m \u001b[0msentimentdaily\u001b[0m\u001b[1;33m(\u001b[0m\u001b[1;34m\"American Airlines\"\u001b[0m\u001b[1;33m,\u001b[0m \u001b[1;36m2019\u001b[0m\u001b[1;33m,\u001b[0m \u001b[1;36m11\u001b[0m\u001b[1;33m,\u001b[0m \u001b[1;36m20\u001b[0m\u001b[1;33m,\u001b[0m \u001b[1;36m2019\u001b[0m\u001b[1;33m,\u001b[0m \u001b[1;36m12\u001b[0m\u001b[1;33m,\u001b[0m \u001b[1;36m16\u001b[0m\u001b[1;33m)\u001b[0m\u001b[1;33m\u001b[0m\u001b[1;33m\u001b[0m\u001b[0m\n\u001b[0;32m      4\u001b[0m \u001b[0msentimentdelta\u001b[0m \u001b[1;33m=\u001b[0m \u001b[0msentimentdaily\u001b[0m\u001b[1;33m(\u001b[0m\u001b[1;34m\"Delta\"\u001b[0m\u001b[1;33m,\u001b[0m \u001b[1;36m2019\u001b[0m\u001b[1;33m,\u001b[0m \u001b[1;36m11\u001b[0m\u001b[1;33m,\u001b[0m \u001b[1;36m20\u001b[0m\u001b[1;33m,\u001b[0m \u001b[1;36m2019\u001b[0m\u001b[1;33m,\u001b[0m \u001b[1;36m12\u001b[0m\u001b[1;33m,\u001b[0m \u001b[1;36m16\u001b[0m\u001b[1;33m)\u001b[0m\u001b[1;33m\u001b[0m\u001b[1;33m\u001b[0m\u001b[0m\n",
      "\u001b[1;32m<ipython-input-268-f411759e1ce5>\u001b[0m in \u001b[0;36msentimentdaily\u001b[1;34m(search, startyear, startmonth, startday, endyear, endmonth, endday)\u001b[0m\n\u001b[0;32m     34\u001b[0m         public = collect_results(rule,\n\u001b[0;32m     35\u001b[0m                              \u001b[0mmax_results\u001b[0m\u001b[1;33m=\u001b[0m\u001b[1;36m100\u001b[0m\u001b[1;33m,\u001b[0m\u001b[1;33m\u001b[0m\u001b[1;33m\u001b[0m\u001b[0m\n\u001b[1;32m---> 36\u001b[1;33m                              result_stream_args=premium_search_args)        \n\u001b[0m\u001b[0;32m     37\u001b[0m         \u001b[1;32mfor\u001b[0m \u001b[0mtweet\u001b[0m \u001b[1;32min\u001b[0m \u001b[0mpublic\u001b[0m\u001b[1;33m:\u001b[0m\u001b[1;33m\u001b[0m\u001b[1;33m\u001b[0m\u001b[0m\n\u001b[0;32m     38\u001b[0m                 \u001b[0mpublict\u001b[0m\u001b[1;33m.\u001b[0m\u001b[0mappend\u001b[0m\u001b[1;33m(\u001b[0m\u001b[0mtweet\u001b[0m\u001b[1;33m.\u001b[0m\u001b[0mtext\u001b[0m\u001b[1;33m)\u001b[0m\u001b[1;33m\u001b[0m\u001b[1;33m\u001b[0m\u001b[0m\n",
      "\u001b[1;32m~\\Anaconda3\\lib\\site-packages\\searchtweets\\result_stream.py\u001b[0m in \u001b[0;36mcollect_results\u001b[1;34m(rule, max_results, result_stream_args)\u001b[0m\n\u001b[0;32m    306\u001b[0m                       \u001b[0mmax_results\u001b[0m\u001b[1;33m=\u001b[0m\u001b[0mmax_results\u001b[0m\u001b[1;33m,\u001b[0m\u001b[1;33m\u001b[0m\u001b[1;33m\u001b[0m\u001b[0m\n\u001b[0;32m    307\u001b[0m                       **result_stream_args)\n\u001b[1;32m--> 308\u001b[1;33m     \u001b[1;32mreturn\u001b[0m \u001b[0mlist\u001b[0m\u001b[1;33m(\u001b[0m\u001b[0mrs\u001b[0m\u001b[1;33m.\u001b[0m\u001b[0mstream\u001b[0m\u001b[1;33m(\u001b[0m\u001b[1;33m)\u001b[0m\u001b[1;33m)\u001b[0m\u001b[1;33m\u001b[0m\u001b[1;33m\u001b[0m\u001b[0m\n\u001b[0m",
      "\u001b[1;32m~\\Anaconda3\\lib\\site-packages\\searchtweets\\result_stream.py\u001b[0m in \u001b[0;36mstream\u001b[1;34m(self)\u001b[0m\n\u001b[0;32m    206\u001b[0m         \u001b[0mself\u001b[0m\u001b[1;33m.\u001b[0m\u001b[0minit_session\u001b[0m\u001b[1;33m(\u001b[0m\u001b[1;33m)\u001b[0m\u001b[1;33m\u001b[0m\u001b[1;33m\u001b[0m\u001b[0m\n\u001b[0;32m    207\u001b[0m         \u001b[0mself\u001b[0m\u001b[1;33m.\u001b[0m\u001b[0mcheck_counts\u001b[0m\u001b[1;33m(\u001b[0m\u001b[1;33m)\u001b[0m\u001b[1;33m\u001b[0m\u001b[1;33m\u001b[0m\u001b[0m\n\u001b[1;32m--> 208\u001b[1;33m         \u001b[0mself\u001b[0m\u001b[1;33m.\u001b[0m\u001b[0mexecute_request\u001b[0m\u001b[1;33m(\u001b[0m\u001b[1;33m)\u001b[0m\u001b[1;33m\u001b[0m\u001b[1;33m\u001b[0m\u001b[0m\n\u001b[0m\u001b[0;32m    209\u001b[0m         \u001b[0mself\u001b[0m\u001b[1;33m.\u001b[0m\u001b[0mstream_started\u001b[0m \u001b[1;33m=\u001b[0m \u001b[1;32mTrue\u001b[0m\u001b[1;33m\u001b[0m\u001b[1;33m\u001b[0m\u001b[0m\n\u001b[0;32m    210\u001b[0m         \u001b[1;32mwhile\u001b[0m \u001b[1;32mTrue\u001b[0m\u001b[1;33m:\u001b[0m\u001b[1;33m\u001b[0m\u001b[1;33m\u001b[0m\u001b[0m\n",
      "\u001b[1;32m~\\Anaconda3\\lib\\site-packages\\searchtweets\\result_stream.py\u001b[0m in \u001b[0;36mexecute_request\u001b[1;34m(self)\u001b[0m\n\u001b[0;32m    258\u001b[0m         resp = request(session=self.session,\n\u001b[0;32m    259\u001b[0m                        \u001b[0murl\u001b[0m\u001b[1;33m=\u001b[0m\u001b[0mself\u001b[0m\u001b[1;33m.\u001b[0m\u001b[0mendpoint\u001b[0m\u001b[1;33m,\u001b[0m\u001b[1;33m\u001b[0m\u001b[1;33m\u001b[0m\u001b[0m\n\u001b[1;32m--> 260\u001b[1;33m                        rule_payload=self.rule_payload)\n\u001b[0m\u001b[0;32m    261\u001b[0m         \u001b[0mself\u001b[0m\u001b[1;33m.\u001b[0m\u001b[0mn_requests\u001b[0m \u001b[1;33m+=\u001b[0m \u001b[1;36m1\u001b[0m\u001b[1;33m\u001b[0m\u001b[1;33m\u001b[0m\u001b[0m\n\u001b[0;32m    262\u001b[0m         \u001b[0mResultStream\u001b[0m\u001b[1;33m.\u001b[0m\u001b[0msession_request_counter\u001b[0m \u001b[1;33m+=\u001b[0m \u001b[1;36m1\u001b[0m\u001b[1;33m\u001b[0m\u001b[1;33m\u001b[0m\u001b[0m\n",
      "\u001b[1;32m~\\Anaconda3\\lib\\site-packages\\searchtweets\\result_stream.py\u001b[0m in \u001b[0;36mretried_func\u001b[1;34m(*args, **kwargs)\u001b[0m\n\u001b[0;32m    102\u001b[0m             \u001b[0mlogger\u001b[0m\u001b[1;33m.\u001b[0m\u001b[0merror\u001b[0m\u001b[1;33m(\u001b[0m\u001b[1;34m\"HTTP Error code: {}: {}\"\u001b[0m\u001b[1;33m.\u001b[0m\u001b[0mformat\u001b[0m\u001b[1;33m(\u001b[0m\u001b[0mresp\u001b[0m\u001b[1;33m.\u001b[0m\u001b[0mstatus_code\u001b[0m\u001b[1;33m,\u001b[0m \u001b[0merror_message\u001b[0m\u001b[1;33m)\u001b[0m\u001b[1;33m)\u001b[0m\u001b[1;33m\u001b[0m\u001b[1;33m\u001b[0m\u001b[0m\n\u001b[0;32m    103\u001b[0m             \u001b[0mlogger\u001b[0m\u001b[1;33m.\u001b[0m\u001b[0merror\u001b[0m\u001b[1;33m(\u001b[0m\u001b[1;34m\"Rule payload: {}\"\u001b[0m\u001b[1;33m.\u001b[0m\u001b[0mformat\u001b[0m\u001b[1;33m(\u001b[0m\u001b[0mkwargs\u001b[0m\u001b[1;33m[\u001b[0m\u001b[1;34m\"rule_payload\"\u001b[0m\u001b[1;33m]\u001b[0m\u001b[1;33m)\u001b[0m\u001b[1;33m)\u001b[0m\u001b[1;33m\u001b[0m\u001b[1;33m\u001b[0m\u001b[0m\n\u001b[1;32m--> 104\u001b[1;33m             \u001b[1;32mraise\u001b[0m \u001b[0mrequests\u001b[0m\u001b[1;33m.\u001b[0m\u001b[0mexceptions\u001b[0m\u001b[1;33m.\u001b[0m\u001b[0mHTTPError\u001b[0m\u001b[1;33m\u001b[0m\u001b[1;33m\u001b[0m\u001b[0m\n\u001b[0m\u001b[0;32m    105\u001b[0m \u001b[1;33m\u001b[0m\u001b[0m\n\u001b[0;32m    106\u001b[0m         \u001b[1;32mreturn\u001b[0m \u001b[0mresp\u001b[0m\u001b[1;33m\u001b[0m\u001b[1;33m\u001b[0m\u001b[0m\n",
      "\u001b[1;31mHTTPError\u001b[0m: "
     ]
    }
   ],
   "source": [
    "sentimenttarget = sentimentdaily(\"Target\", 2019, 11, 20, 2019, 12, 16)"
   ]
  },
  {
   "cell_type": "code",
   "execution_count": 493,
   "metadata": {},
   "outputs": [
    {
     "name": "stderr",
     "output_type": "stream",
     "text": [
      "Grabbing bearer token from OAUTH\n"
     ]
    }
   ],
   "source": [
    "sentimentverizon = sentimentdaily(\"Verizon\", 2019, 11, 20, 2019, 12, 16)"
   ]
  },
  {
   "cell_type": "code",
   "execution_count": null,
   "metadata": {},
   "outputs": [],
   "source": []
  },
  {
   "cell_type": "code",
   "execution_count": 134,
   "metadata": {},
   "outputs": [],
   "source": [
    "from pytrends.request import TrendReq\n",
    "import time\n",
    "import numpy as np\n",
    "import random\n",
    "def get_trends(search):\n",
    "    pytrend = TrendReq(hl='en-US', tz=360)\n",
    "    kw_list=[search]\n",
    "    pytrend.build_payload(kw_list, cat=0, timeframe='today 3-m',geo='',gprop='')\n",
    "    interest_over_time_df = pytrend.interest_over_time()\n",
    "    time.sleep(random.randint(5, 10))\n",
    "\n",
    "    interest_over_time_df[\"Date\"] = interest_over_time_df.index\n",
    "\n",
    "    interest_over_time_df.reset_index\n",
    "    interest_over_time_df[\"DOW\"] = pd.to_datetime(interest_over_time_df[\"Date\"]).dt.weekday\n",
    "    interest_over_time_df = interest_over_time_df[interest_over_time_df.DOW < 5]\n",
    "    interest_over_time_df['Datevalue'] = interest_over_time_df['Date'].astype(str)\n",
    "    interest_over_time_df['Datevalue'] = interest_over_time_df['Datevalue'].str.replace('\\D', '').astype(int)\n",
    "    interest_over_time_df[\"Google\"] = interest_over_time_df[search]\n",
    "\n",
    "    return interest_over_time_df"
   ]
  },
  {
   "cell_type": "code",
   "execution_count": null,
   "metadata": {},
   "outputs": [],
   "source": [
    "trends = get_trends(\"Nike\")\n"
   ]
  },
  {
   "cell_type": "code",
   "execution_count": 135,
   "metadata": {},
   "outputs": [],
   "source": [
    "googletrends = get_trends(\"Google\")"
   ]
  },
  {
   "cell_type": "code",
   "execution_count": 143,
   "metadata": {},
   "outputs": [],
   "source": [
    "disneytrends = get_trends(\"Disney\")"
   ]
  },
  {
   "cell_type": "code",
   "execution_count": 253,
   "metadata": {},
   "outputs": [],
   "source": [
    "microsofttrends = get_trends(\"Microsoft\")"
   ]
  },
  {
   "cell_type": "code",
   "execution_count": 271,
   "metadata": {},
   "outputs": [],
   "source": [
    "inteltrends = get_trends(\"Intel\")"
   ]
  },
  {
   "cell_type": "code",
   "execution_count": 368,
   "metadata": {},
   "outputs": [],
   "source": [
    "appletrends = get_trends(\"Apple\")"
   ]
  },
  {
   "cell_type": "code",
   "execution_count": 447,
   "metadata": {},
   "outputs": [],
   "source": [
    "cocacolatrends = get_trends(\"Coca-Cola\")"
   ]
  },
  {
   "cell_type": "code",
   "execution_count": 460,
   "metadata": {},
   "outputs": [],
   "source": [
    "amazontrends = get_trends(\"Amazon\")"
   ]
  },
  {
   "cell_type": "code",
   "execution_count": 494,
   "metadata": {},
   "outputs": [],
   "source": [
    "targettrends = get_trends(\"Target\")\n",
    "verizontrends = get_trends(\"Verizon\")"
   ]
  },
  {
   "cell_type": "code",
   "execution_count": 650,
   "metadata": {},
   "outputs": [],
   "source": [
    "Trenddf = pd.DataFrame({\"Amazon\": [amazontrends[\"Google\"].mean()], \n",
    "                        \"Nike\": [trends[\"Google\"].mean()],\n",
    "                        \"Google\": [googletrends[\"Google\"].mean()],\n",
    "                        \"Disney\": [disneytrends[\"Google\"].mean()],\n",
    "                        \"Microsoft\": [microsofttrends[\"Google\"].mean()],\n",
    "                        \"Intel\": [inteltrends[\"Google\"].mean()],\n",
    "                        \"Apple\": [appletrends[\"Google\"].mean()],\n",
    "                        \"Coca-Cola\": [cocacolatrends[\"Google\"].mean()],\n",
    "                        \"Target\": [targettrends[\"Google\"].mean()],\n",
    "                        \"Verizon\": [verizontrends[\"Google\"].mean()]})"
   ]
  },
  {
   "cell_type": "code",
   "execution_count": 655,
   "metadata": {},
   "outputs": [],
   "source": [
    "Trenddf = Trenddf.transpose()"
   ]
  },
  {
   "cell_type": "code",
   "execution_count": 666,
   "metadata": {},
   "outputs": [],
   "source": [
    "Trenddf.columns = [\"Trend\"]"
   ]
  },
  {
   "cell_type": "code",
   "execution_count": 670,
   "metadata": {},
   "outputs": [
    {
     "data": {
      "text/plain": [
       "Text(0.5, 1.0, 'Search Volume by Company')"
      ]
     },
     "execution_count": 670,
     "metadata": {},
     "output_type": "execute_result"
    },
    {
     "data": {
      "image/png": "[encoded data removed]",
      "text/plain": [
       "<Figure size 1440x720 with 1 Axes>"
      ]
     },
     "metadata": {
      "needs_background": "light"
     },
     "output_type": "display_data"
    }
   ],
   "source": [
    "plt.figure(figsize=(20,10))\n",
    "plt.bar(Trenddf.index, Trenddf[\"Trend\"])\n",
    "plt.title(\"Search Volume by Company\")"
   ]
  },
  {
   "cell_type": "code",
   "execution_count": 425,
   "metadata": {},
   "outputs": [],
   "source": [
    "def merge_dfs(twitter_df, stock_df, sentiment_df, trends_df):\n",
    "    df1 = twitter_df.merge(stock_df, on = \"Datevalue\")\n",
    "    df2 = df1.merge(sentiment_df, on =\"Datevalue\")\n",
    "    total = df2.merge(trends_df, on = \"Datevalue\")\n",
    "    total = total.drop([\"DOW_x\", \"Date_x\", \"isPartial\", \"Date_y\", \"DOW_y\"], axis = 1)\n",
    "\n",
    "    total[\"Retweetsdb\"] = total[\"Retweets\"].shift(1)\n",
    "    total[\"Favoritesdb\"] = total[\"Favorites\"].shift(1)\n",
    "    total[\"Googledb\"] = total[\"Google\"].shift(1)\n",
    "    total[\"Sentimentdb\"] = total[\"Sentiment\"].shift(1)\n",
    "    from sklearn.preprocessing import MinMaxScaler\n",
    "    scaler=MinMaxScaler(feature_range=(5,95))\n",
    "    total[\"Close\"] = scaler.fit_transform(total[[\"Close\"]])\n",
    "    total[\"Sentimentdb\"] = scaler.fit_transform(total[[\"Sentimentdb\"]])\n",
    "    total[\"Googledb\"] = scaler.fit_transform(total[[\"Googledb\"]])\n",
    "    total[\"Retweetsdb\"] = scaler.fit_transform(total[[\"Retweetsdb\"]])\n",
    "    total[\"Favoritesdb\"] = scaler.fit_transform(total[[\"Favoritesdb\"]])\n",
    "    total = total.reset_index()\n",
    "    return total"
   ]
  },
  {
   "cell_type": "code",
   "execution_count": 541,
   "metadata": {},
   "outputs": [],
   "source": [
    "Nike = merge_dfs(twitter, stock, sentiment, trends)"
   ]
  },
  {
   "cell_type": "code",
   "execution_count": 427,
   "metadata": {},
   "outputs": [],
   "source": [
    "Googledf = merge_dfs(google, googlestock, sentimentgoogle, googletrends)"
   ]
  },
  {
   "cell_type": "code",
   "execution_count": 428,
   "metadata": {},
   "outputs": [],
   "source": [
    "Disneydf = merge_dfs(Disneytwitter, disneystock, sentimentdisney, disneytrends)"
   ]
  },
  {
   "cell_type": "code",
   "execution_count": 429,
   "metadata": {},
   "outputs": [],
   "source": [
    "Microsoftdf = merge_dfs(Microsofttwitter, microsoftstock, sentimentmicrosoft, microsofttrends)"
   ]
  },
  {
   "cell_type": "code",
   "execution_count": 430,
   "metadata": {},
   "outputs": [],
   "source": [
    "Inteldf = merge_dfs(Inteltwitter, intelstock, sentimentintel, inteltrends)"
   ]
  },
  {
   "cell_type": "code",
   "execution_count": 431,
   "metadata": {},
   "outputs": [],
   "source": [
    "Appledf = merge_dfs(Appletwitter, applestock, sentimentapple, appletrends)"
   ]
  },
  {
   "cell_type": "code",
   "execution_count": 448,
   "metadata": {},
   "outputs": [],
   "source": [
    "Cocacoladf = merge_dfs(Cocacolatwitter, cocacolastock, sentimentcocacola, cocacolatrends)"
   ]
  },
  {
   "cell_type": "code",
   "execution_count": 461,
   "metadata": {},
   "outputs": [],
   "source": [
    "Amazondf = merge_dfs(Amazontwitter, amazonstock, sentimentamazon, amazontrends)"
   ]
  },
  {
   "cell_type": "code",
   "execution_count": 496,
   "metadata": {},
   "outputs": [],
   "source": [
    "Targetdf = merge_dfs(Targettwitter, targetstock, sentimenttarget, targettrends)\n",
    "Verizondf = merge_dfs(Verizontwitter, verizonstock, sentimentverizon, verizontrends)"
   ]
  },
  {
   "cell_type": "code",
   "execution_count": 19,
   "metadata": {},
   "outputs": [],
   "source": [
    "import pandas as pd\n",
    "import numpy as np\n",
    "import matplotlib.pyplot as plt   #Data visualisation libraries \n",
    "import seaborn as sns\n",
    "%matplotlib inline"
   ]
  },
  {
   "cell_type": "code",
   "execution_count": null,
   "metadata": {},
   "outputs": [],
   "source": []
  },
  {
   "cell_type": "code",
   "execution_count": null,
   "metadata": {},
   "outputs": [],
   "source": []
  },
  {
   "cell_type": "code",
   "execution_count": 535,
   "metadata": {
    "scrolled": true
   },
   "outputs": [],
   "source": [
    "import statsmodels.api as sm # import statsmodels \n",
    "def lm_twitter(data):\n",
    "    Y = data[\"Close\"]\n",
    "    Y = Y.drop(Y.index[0])\n",
    "    X = data[['Favoritesdb', 'Retweetsdb', \"Googledb\", \"Sentimentdb\"]]\n",
    "    X = X.drop(X.index[0])\n",
    "    model = sm.OLS(Y, X).fit()\n",
    "    return model.summary()"
   ]
  },
  {
   "cell_type": "code",
   "execution_count": 567,
   "metadata": {},
   "outputs": [],
   "source": [
    "import statsmodels.api as sm # import statsmodels \n",
    "def lm_plot(data):\n",
    "    Y = data[\"Close\"]\n",
    "    Y = Y.drop(Y.index[0])\n",
    "    X = data[['Favoritesdb', 'Retweetsdb', \"Googledb\", \"Sentimentdb\"]]\n",
    "    X = X.drop(X.index[0])\n",
    "    model = sm.OLS(Y, X).fit()\n",
    "    predictions = model.predict(X)\n",
    "    plt.scatter(predictions, Y, s=30, c='k', marker='+')\n",
    "    plt.xlabel(\"Predicted Closing Price from model\")\n",
    "    plt.ylabel(\"Actual Closing Price\")\n",
    "    plt.show()"
   ]
  },
  {
   "cell_type": "code",
   "execution_count": 634,
   "metadata": {},
   "outputs": [
    {
     "name": "stderr",
     "output_type": "stream",
     "text": [
      "C:\\Users\\Owner\\Anaconda3\\lib\\site-packages\\scipy\\stats\\stats.py:1450: UserWarning: kurtosistest only valid for n>=20 ... continuing anyway, n=14\n",
      "  \"anyway, n=%i\" % int(n))\n"
     ]
    },
    {
     "data": {
      "text/html": [
       "<table class=\"simpletable\">\n",
       "<caption>OLS Regression Results</caption>\n",
       "<tr>\n",
       "  <th>Dep. Variable:</th>          <td>Close</td>      <th>  R-squared (uncentered):</th>      <td>   0.415</td>\n",
       "</tr>\n",
       "<tr>\n",
       "  <th>Model:</th>                   <td>OLS</td>       <th>  Adj. R-squared (uncentered):</th> <td>   0.181</td>\n",
       "</tr>\n",
       "<tr>\n",
       "  <th>Method:</th>             <td>Least Squares</td>  <th>  F-statistic:       </th>          <td>   1.773</td>\n",
       "</tr>\n",
       "<tr>\n",
       "  <th>Date:</th>             <td>Wed, 18 Dec 2019</td> <th>  Prob (F-statistic):</th>           <td> 0.211</td> \n",
       "</tr>\n",
       "<tr>\n",
       "  <th>Time:</th>                 <td>18:00:48</td>     <th>  Log-Likelihood:    </th>          <td> -72.661</td>\n",
       "</tr>\n",
       "<tr>\n",
       "  <th>No. Observations:</th>      <td>    14</td>      <th>  AIC:               </th>          <td>   153.3</td>\n",
       "</tr>\n",
       "<tr>\n",
       "  <th>Df Residuals:</th>          <td>    10</td>      <th>  BIC:               </th>          <td>   155.9</td>\n",
       "</tr>\n",
       "<tr>\n",
       "  <th>Df Model:</th>              <td>     4</td>      <th>                     </th>              <td> </td>   \n",
       "</tr>\n",
       "<tr>\n",
       "  <th>Covariance Type:</th>      <td>nonrobust</td>    <th>                     </th>              <td> </td>   \n",
       "</tr>\n",
       "</table>\n",
       "<table class=\"simpletable\">\n",
       "<tr>\n",
       "       <td></td>          <th>coef</th>     <th>std err</th>      <th>t</th>      <th>P>|t|</th>  <th>[0.025</th>    <th>0.975]</th>  \n",
       "</tr>\n",
       "<tr>\n",
       "  <th>Favoritesdb</th> <td>   -0.2878</td> <td>    1.506</td> <td>   -0.191</td> <td> 0.852</td> <td>   -3.644</td> <td>    3.069</td>\n",
       "</tr>\n",
       "<tr>\n",
       "  <th>Retweetsdb</th>  <td>    0.3419</td> <td>    1.399</td> <td>    0.244</td> <td> 0.812</td> <td>   -2.776</td> <td>    3.460</td>\n",
       "</tr>\n",
       "<tr>\n",
       "  <th>Googledb</th>    <td>    0.6175</td> <td>    0.505</td> <td>    1.223</td> <td> 0.249</td> <td>   -0.507</td> <td>    1.742</td>\n",
       "</tr>\n",
       "<tr>\n",
       "  <th>Sentimentdb</th> <td>    0.5249</td> <td>    0.330</td> <td>    1.592</td> <td> 0.142</td> <td>   -0.210</td> <td>    1.259</td>\n",
       "</tr>\n",
       "</table>\n",
       "<table class=\"simpletable\">\n",
       "<tr>\n",
       "  <th>Omnibus:</th>       <td> 8.972</td> <th>  Durbin-Watson:     </th> <td>   0.189</td>\n",
       "</tr>\n",
       "<tr>\n",
       "  <th>Prob(Omnibus):</th> <td> 0.011</td> <th>  Jarque-Bera (JB):  </th> <td>   1.762</td>\n",
       "</tr>\n",
       "<tr>\n",
       "  <th>Skew:</th>          <td> 0.166</td> <th>  Prob(JB):          </th> <td>   0.414</td>\n",
       "</tr>\n",
       "<tr>\n",
       "  <th>Kurtosis:</th>      <td> 1.294</td> <th>  Cond. No.          </th> <td>    7.52</td>\n",
       "</tr>\n",
       "</table><br/><br/>Warnings:<br/>[1] Standard Errors assume that the covariance matrix of the errors is correctly specified."
      ],
      "text/plain": [
       "<class 'statsmodels.iolib.summary.Summary'>\n",
       "\"\"\"\n",
       "                                 OLS Regression Results                                \n",
       "=======================================================================================\n",
       "Dep. Variable:                  Close   R-squared (uncentered):                   0.415\n",
       "Model:                            OLS   Adj. R-squared (uncentered):              0.181\n",
       "Method:                 Least Squares   F-statistic:                              1.773\n",
       "Date:                Wed, 18 Dec 2019   Prob (F-statistic):                       0.211\n",
       "Time:                        18:00:48   Log-Likelihood:                         -72.661\n",
       "No. Observations:                  14   AIC:                                      153.3\n",
       "Df Residuals:                      10   BIC:                                      155.9\n",
       "Df Model:                           4                                                  \n",
       "Covariance Type:            nonrobust                                                  \n",
       "===============================================================================\n",
       "                  coef    std err          t      P>|t|      [0.025      0.975]\n",
       "-------------------------------------------------------------------------------\n",
       "Favoritesdb    -0.2878      1.506     -0.191      0.852      -3.644       3.069\n",
       "Retweetsdb      0.3419      1.399      0.244      0.812      -2.776       3.460\n",
       "Googledb        0.6175      0.505      1.223      0.249      -0.507       1.742\n",
       "Sentimentdb     0.5249      0.330      1.592      0.142      -0.210       1.259\n",
       "==============================================================================\n",
       "Omnibus:                        8.972   Durbin-Watson:                   0.189\n",
       "Prob(Omnibus):                  0.011   Jarque-Bera (JB):                1.762\n",
       "Skew:                           0.166   Prob(JB):                        0.414\n",
       "Kurtosis:                       1.294   Cond. No.                         7.52\n",
       "==============================================================================\n",
       "\n",
       "Warnings:\n",
       "[1] Standard Errors assume that the covariance matrix of the errors is correctly specified.\n",
       "\"\"\""
      ]
     },
     "execution_count": 634,
     "metadata": {},
     "output_type": "execute_result"
    }
   ],
   "source": [
    "lm_twitter(Nike)"
   ]
  },
  {
   "cell_type": "code",
   "execution_count": 569,
   "metadata": {},
   "outputs": [
    {
     "data": {
      "image/png": "[encoded data removed]",
      "text/plain": [
       "<Figure size 432x288 with 1 Axes>"
      ]
     },
     "metadata": {
      "needs_background": "light"
     },
     "output_type": "display_data"
    }
   ],
   "source": [
    "lm_plot(Nike)"
   ]
  },
  {
   "cell_type": "code",
   "execution_count": 540,
   "metadata": {},
   "outputs": [
    {
     "name": "stderr",
     "output_type": "stream",
     "text": [
      "C:\\Users\\Owner\\Anaconda3\\lib\\site-packages\\scipy\\stats\\stats.py:1450: UserWarning: kurtosistest only valid for n>=20 ... continuing anyway, n=16\n",
      "  \"anyway, n=%i\" % int(n))\n"
     ]
    },
    {
     "data": {
      "text/html": [
       "<table class=\"simpletable\">\n",
       "<caption>OLS Regression Results</caption>\n",
       "<tr>\n",
       "  <th>Dep. Variable:</th>          <td>Close</td>      <th>  R-squared (uncentered):</th>      <td>   0.722</td>\n",
       "</tr>\n",
       "<tr>\n",
       "  <th>Model:</th>                   <td>OLS</td>       <th>  Adj. R-squared (uncentered):</th> <td>   0.629</td>\n",
       "</tr>\n",
       "<tr>\n",
       "  <th>Method:</th>             <td>Least Squares</td>  <th>  F-statistic:       </th>          <td>   7.778</td>\n",
       "</tr>\n",
       "<tr>\n",
       "  <th>Date:</th>             <td>Wed, 18 Dec 2019</td> <th>  Prob (F-statistic):</th>           <td>0.00248</td>\n",
       "</tr>\n",
       "<tr>\n",
       "  <th>Time:</th>                 <td>03:33:58</td>     <th>  Log-Likelihood:    </th>          <td> -76.164</td>\n",
       "</tr>\n",
       "<tr>\n",
       "  <th>No. Observations:</th>      <td>    16</td>      <th>  AIC:               </th>          <td>   160.3</td>\n",
       "</tr>\n",
       "<tr>\n",
       "  <th>Df Residuals:</th>          <td>    12</td>      <th>  BIC:               </th>          <td>   163.4</td>\n",
       "</tr>\n",
       "<tr>\n",
       "  <th>Df Model:</th>              <td>     4</td>      <th>                     </th>              <td> </td>   \n",
       "</tr>\n",
       "<tr>\n",
       "  <th>Covariance Type:</th>      <td>nonrobust</td>    <th>                     </th>              <td> </td>   \n",
       "</tr>\n",
       "</table>\n",
       "<table class=\"simpletable\">\n",
       "<tr>\n",
       "       <td></td>          <th>coef</th>     <th>std err</th>      <th>t</th>      <th>P>|t|</th>  <th>[0.025</th>    <th>0.975]</th>  \n",
       "</tr>\n",
       "<tr>\n",
       "  <th>Favoritesdb</th> <td>    0.1886</td> <td>    0.836</td> <td>    0.225</td> <td> 0.825</td> <td>   -1.634</td> <td>    2.011</td>\n",
       "</tr>\n",
       "<tr>\n",
       "  <th>Retweetsdb</th>  <td>   -0.2623</td> <td>    0.921</td> <td>   -0.285</td> <td> 0.781</td> <td>   -2.269</td> <td>    1.745</td>\n",
       "</tr>\n",
       "<tr>\n",
       "  <th>Googledb</th>    <td>    0.6522</td> <td>    0.288</td> <td>    2.265</td> <td> 0.043</td> <td>    0.025</td> <td>    1.280</td>\n",
       "</tr>\n",
       "<tr>\n",
       "  <th>Sentimentdb</th> <td>    0.1354</td> <td>    0.197</td> <td>    0.686</td> <td> 0.505</td> <td>   -0.294</td> <td>    0.565</td>\n",
       "</tr>\n",
       "</table>\n",
       "<table class=\"simpletable\">\n",
       "<tr>\n",
       "  <th>Omnibus:</th>       <td> 0.227</td> <th>  Durbin-Watson:     </th> <td>   0.730</td>\n",
       "</tr>\n",
       "<tr>\n",
       "  <th>Prob(Omnibus):</th> <td> 0.893</td> <th>  Jarque-Bera (JB):  </th> <td>   0.051</td>\n",
       "</tr>\n",
       "<tr>\n",
       "  <th>Skew:</th>          <td> 0.095</td> <th>  Prob(JB):          </th> <td>   0.975</td>\n",
       "</tr>\n",
       "<tr>\n",
       "  <th>Kurtosis:</th>      <td> 2.801</td> <th>  Cond. No.          </th> <td>    14.5</td>\n",
       "</tr>\n",
       "</table><br/><br/>Warnings:<br/>[1] Standard Errors assume that the covariance matrix of the errors is correctly specified."
      ],
      "text/plain": [
       "<class 'statsmodels.iolib.summary.Summary'>\n",
       "\"\"\"\n",
       "                                 OLS Regression Results                                \n",
       "=======================================================================================\n",
       "Dep. Variable:                  Close   R-squared (uncentered):                   0.722\n",
       "Model:                            OLS   Adj. R-squared (uncentered):              0.629\n",
       "Method:                 Least Squares   F-statistic:                              7.778\n",
       "Date:                Wed, 18 Dec 2019   Prob (F-statistic):                     0.00248\n",
       "Time:                        03:33:58   Log-Likelihood:                         -76.164\n",
       "No. Observations:                  16   AIC:                                      160.3\n",
       "Df Residuals:                      12   BIC:                                      163.4\n",
       "Df Model:                           4                                                  \n",
       "Covariance Type:            nonrobust                                                  \n",
       "===============================================================================\n",
       "                  coef    std err          t      P>|t|      [0.025      0.975]\n",
       "-------------------------------------------------------------------------------\n",
       "Favoritesdb     0.1886      0.836      0.225      0.825      -1.634       2.011\n",
       "Retweetsdb     -0.2623      0.921     -0.285      0.781      -2.269       1.745\n",
       "Googledb        0.6522      0.288      2.265      0.043       0.025       1.280\n",
       "Sentimentdb     0.1354      0.197      0.686      0.505      -0.294       0.565\n",
       "==============================================================================\n",
       "Omnibus:                        0.227   Durbin-Watson:                   0.730\n",
       "Prob(Omnibus):                  0.893   Jarque-Bera (JB):                0.051\n",
       "Skew:                           0.095   Prob(JB):                        0.975\n",
       "Kurtosis:                       2.801   Cond. No.                         14.5\n",
       "==============================================================================\n",
       "\n",
       "Warnings:\n",
       "[1] Standard Errors assume that the covariance matrix of the errors is correctly specified.\n",
       "\"\"\""
      ]
     },
     "execution_count": 540,
     "metadata": {},
     "output_type": "execute_result"
    }
   ],
   "source": [
    "lm_twitter(Disneydf)"
   ]
  },
  {
   "cell_type": "code",
   "execution_count": 571,
   "metadata": {},
   "outputs": [
    {
     "data": {
      "image/png": "[encoded data removed]",
      "text/plain": [
       "<Figure size 432x288 with 1 Axes>"
      ]
     },
     "metadata": {
      "needs_background": "light"
     },
     "output_type": "display_data"
    }
   ],
   "source": [
    "lm_plot(Disneydf)"
   ]
  },
  {
   "cell_type": "code",
   "execution_count": 434,
   "metadata": {},
   "outputs": [
    {
     "data": {
      "text/html": [
       "<table class=\"simpletable\">\n",
       "<caption>OLS Regression Results</caption>\n",
       "<tr>\n",
       "  <th>Dep. Variable:</th>          <td>Close</td>      <th>  R-squared (uncentered):</th>      <td>   0.889</td>\n",
       "</tr>\n",
       "<tr>\n",
       "  <th>Model:</th>                   <td>OLS</td>       <th>  Adj. R-squared (uncentered):</th> <td>   0.852</td>\n",
       "</tr>\n",
       "<tr>\n",
       "  <th>Method:</th>             <td>Least Squares</td>  <th>  F-statistic:       </th>          <td>   24.08</td>\n",
       "</tr>\n",
       "<tr>\n",
       "  <th>Date:</th>             <td>Wed, 18 Dec 2019</td> <th>  Prob (F-statistic):</th>          <td>1.17e-05</td>\n",
       "</tr>\n",
       "<tr>\n",
       "  <th>Time:</th>                 <td>01:58:39</td>     <th>  Log-Likelihood:    </th>          <td> -70.855</td>\n",
       "</tr>\n",
       "<tr>\n",
       "  <th>No. Observations:</th>      <td>    16</td>      <th>  AIC:               </th>          <td>   149.7</td>\n",
       "</tr>\n",
       "<tr>\n",
       "  <th>Df Residuals:</th>          <td>    12</td>      <th>  BIC:               </th>          <td>   152.8</td>\n",
       "</tr>\n",
       "<tr>\n",
       "  <th>Df Model:</th>              <td>     4</td>      <th>                     </th>              <td> </td>   \n",
       "</tr>\n",
       "<tr>\n",
       "  <th>Covariance Type:</th>      <td>nonrobust</td>    <th>                     </th>              <td> </td>   \n",
       "</tr>\n",
       "</table>\n",
       "<table class=\"simpletable\">\n",
       "<tr>\n",
       "       <td></td>          <th>coef</th>     <th>std err</th>      <th>t</th>      <th>P>|t|</th>  <th>[0.025</th>    <th>0.975]</th>  \n",
       "</tr>\n",
       "<tr>\n",
       "  <th>Favoritesdb</th> <td>   -0.4298</td> <td>    1.788</td> <td>   -0.240</td> <td> 0.814</td> <td>   -4.326</td> <td>    3.466</td>\n",
       "</tr>\n",
       "<tr>\n",
       "  <th>Retweetsdb</th>  <td>    0.6450</td> <td>    1.672</td> <td>    0.386</td> <td> 0.706</td> <td>   -2.999</td> <td>    4.289</td>\n",
       "</tr>\n",
       "<tr>\n",
       "  <th>Googledb</th>    <td>    0.1640</td> <td>    0.182</td> <td>    0.902</td> <td> 0.385</td> <td>   -0.232</td> <td>    0.560</td>\n",
       "</tr>\n",
       "<tr>\n",
       "  <th>Sentimentdb</th> <td>    0.6510</td> <td>    0.211</td> <td>    3.080</td> <td> 0.010</td> <td>    0.190</td> <td>    1.112</td>\n",
       "</tr>\n",
       "</table>\n",
       "<table class=\"simpletable\">\n",
       "<tr>\n",
       "  <th>Omnibus:</th>       <td> 2.318</td> <th>  Durbin-Watson:     </th> <td>   0.665</td>\n",
       "</tr>\n",
       "<tr>\n",
       "  <th>Prob(Omnibus):</th> <td> 0.314</td> <th>  Jarque-Bera (JB):  </th> <td>   1.522</td>\n",
       "</tr>\n",
       "<tr>\n",
       "  <th>Skew:</th>          <td>-0.744</td> <th>  Prob(JB):          </th> <td>   0.467</td>\n",
       "</tr>\n",
       "<tr>\n",
       "  <th>Kurtosis:</th>      <td> 2.734</td> <th>  Cond. No.          </th> <td>    42.4</td>\n",
       "</tr>\n",
       "</table><br/><br/>Warnings:<br/>[1] Standard Errors assume that the covariance matrix of the errors is correctly specified."
      ],
      "text/plain": [
       "<class 'statsmodels.iolib.summary.Summary'>\n",
       "\"\"\"\n",
       "                                 OLS Regression Results                                \n",
       "=======================================================================================\n",
       "Dep. Variable:                  Close   R-squared (uncentered):                   0.889\n",
       "Model:                            OLS   Adj. R-squared (uncentered):              0.852\n",
       "Method:                 Least Squares   F-statistic:                              24.08\n",
       "Date:                Wed, 18 Dec 2019   Prob (F-statistic):                    1.17e-05\n",
       "Time:                        01:58:39   Log-Likelihood:                         -70.855\n",
       "No. Observations:                  16   AIC:                                      149.7\n",
       "Df Residuals:                      12   BIC:                                      152.8\n",
       "Df Model:                           4                                                  \n",
       "Covariance Type:            nonrobust                                                  \n",
       "===============================================================================\n",
       "                  coef    std err          t      P>|t|      [0.025      0.975]\n",
       "-------------------------------------------------------------------------------\n",
       "Favoritesdb    -0.4298      1.788     -0.240      0.814      -4.326       3.466\n",
       "Retweetsdb      0.6450      1.672      0.386      0.706      -2.999       4.289\n",
       "Googledb        0.1640      0.182      0.902      0.385      -0.232       0.560\n",
       "Sentimentdb     0.6510      0.211      3.080      0.010       0.190       1.112\n",
       "==============================================================================\n",
       "Omnibus:                        2.318   Durbin-Watson:                   0.665\n",
       "Prob(Omnibus):                  0.314   Jarque-Bera (JB):                1.522\n",
       "Skew:                          -0.744   Prob(JB):                        0.467\n",
       "Kurtosis:                       2.734   Cond. No.                         42.4\n",
       "==============================================================================\n",
       "\n",
       "Warnings:\n",
       "[1] Standard Errors assume that the covariance matrix of the errors is correctly specified.\n",
       "\"\"\""
      ]
     },
     "execution_count": 434,
     "metadata": {},
     "output_type": "execute_result"
    }
   ],
   "source": [
    "lm_twitter(Googledf)"
   ]
  },
  {
   "cell_type": "code",
   "execution_count": 572,
   "metadata": {},
   "outputs": [
    {
     "data": {
      "image/png": "[encoded data removed]",
      "text/plain": [
       "<Figure size 432x288 with 1 Axes>"
      ]
     },
     "metadata": {
      "needs_background": "light"
     },
     "output_type": "display_data"
    }
   ],
   "source": [
    "lm_plot(Googledf)"
   ]
  },
  {
   "cell_type": "code",
   "execution_count": 435,
   "metadata": {},
   "outputs": [
    {
     "name": "stderr",
     "output_type": "stream",
     "text": [
      "C:\\Users\\Owner\\Anaconda3\\lib\\site-packages\\scipy\\stats\\stats.py:1450: UserWarning: kurtosistest only valid for n>=20 ... continuing anyway, n=15\n",
      "  \"anyway, n=%i\" % int(n))\n"
     ]
    },
    {
     "data": {
      "text/html": [
       "<table class=\"simpletable\">\n",
       "<caption>OLS Regression Results</caption>\n",
       "<tr>\n",
       "  <th>Dep. Variable:</th>          <td>Close</td>      <th>  R-squared (uncentered):</th>      <td>   0.744</td>\n",
       "</tr>\n",
       "<tr>\n",
       "  <th>Model:</th>                   <td>OLS</td>       <th>  Adj. R-squared (uncentered):</th> <td>   0.651</td>\n",
       "</tr>\n",
       "<tr>\n",
       "  <th>Method:</th>             <td>Least Squares</td>  <th>  F-statistic:       </th>          <td>   8.007</td>\n",
       "</tr>\n",
       "<tr>\n",
       "  <th>Date:</th>             <td>Wed, 18 Dec 2019</td> <th>  Prob (F-statistic):</th>           <td>0.00281</td>\n",
       "</tr>\n",
       "<tr>\n",
       "  <th>Time:</th>                 <td>01:58:39</td>     <th>  Log-Likelihood:    </th>          <td> -67.991</td>\n",
       "</tr>\n",
       "<tr>\n",
       "  <th>No. Observations:</th>      <td>    15</td>      <th>  AIC:               </th>          <td>   144.0</td>\n",
       "</tr>\n",
       "<tr>\n",
       "  <th>Df Residuals:</th>          <td>    11</td>      <th>  BIC:               </th>          <td>   146.8</td>\n",
       "</tr>\n",
       "<tr>\n",
       "  <th>Df Model:</th>              <td>     4</td>      <th>                     </th>              <td> </td>   \n",
       "</tr>\n",
       "<tr>\n",
       "  <th>Covariance Type:</th>      <td>nonrobust</td>    <th>                     </th>              <td> </td>   \n",
       "</tr>\n",
       "</table>\n",
       "<table class=\"simpletable\">\n",
       "<tr>\n",
       "       <td></td>          <th>coef</th>     <th>std err</th>      <th>t</th>      <th>P>|t|</th>  <th>[0.025</th>    <th>0.975]</th>  \n",
       "</tr>\n",
       "<tr>\n",
       "  <th>Favoritesdb</th> <td>   -0.5424</td> <td>    0.478</td> <td>   -1.136</td> <td> 0.280</td> <td>   -1.594</td> <td>    0.509</td>\n",
       "</tr>\n",
       "<tr>\n",
       "  <th>Retweetsdb</th>  <td>    0.9397</td> <td>    0.363</td> <td>    2.592</td> <td> 0.025</td> <td>    0.142</td> <td>    1.738</td>\n",
       "</tr>\n",
       "<tr>\n",
       "  <th>Googledb</th>    <td>    0.3109</td> <td>    0.308</td> <td>    1.009</td> <td> 0.335</td> <td>   -0.367</td> <td>    0.989</td>\n",
       "</tr>\n",
       "<tr>\n",
       "  <th>Sentimentdb</th> <td>    0.4405</td> <td>    0.384</td> <td>    1.147</td> <td> 0.276</td> <td>   -0.405</td> <td>    1.286</td>\n",
       "</tr>\n",
       "</table>\n",
       "<table class=\"simpletable\">\n",
       "<tr>\n",
       "  <th>Omnibus:</th>       <td> 0.570</td> <th>  Durbin-Watson:     </th> <td>   0.957</td>\n",
       "</tr>\n",
       "<tr>\n",
       "  <th>Prob(Omnibus):</th> <td> 0.752</td> <th>  Jarque-Bera (JB):  </th> <td>   0.605</td>\n",
       "</tr>\n",
       "<tr>\n",
       "  <th>Skew:</th>          <td> 0.354</td> <th>  Prob(JB):          </th> <td>   0.739</td>\n",
       "</tr>\n",
       "<tr>\n",
       "  <th>Kurtosis:</th>      <td> 2.317</td> <th>  Cond. No.          </th> <td>    8.79</td>\n",
       "</tr>\n",
       "</table><br/><br/>Warnings:<br/>[1] Standard Errors assume that the covariance matrix of the errors is correctly specified."
      ],
      "text/plain": [
       "<class 'statsmodels.iolib.summary.Summary'>\n",
       "\"\"\"\n",
       "                                 OLS Regression Results                                \n",
       "=======================================================================================\n",
       "Dep. Variable:                  Close   R-squared (uncentered):                   0.744\n",
       "Model:                            OLS   Adj. R-squared (uncentered):              0.651\n",
       "Method:                 Least Squares   F-statistic:                              8.007\n",
       "Date:                Wed, 18 Dec 2019   Prob (F-statistic):                     0.00281\n",
       "Time:                        01:58:39   Log-Likelihood:                         -67.991\n",
       "No. Observations:                  15   AIC:                                      144.0\n",
       "Df Residuals:                      11   BIC:                                      146.8\n",
       "Df Model:                           4                                                  \n",
       "Covariance Type:            nonrobust                                                  \n",
       "===============================================================================\n",
       "                  coef    std err          t      P>|t|      [0.025      0.975]\n",
       "-------------------------------------------------------------------------------\n",
       "Favoritesdb    -0.5424      0.478     -1.136      0.280      -1.594       0.509\n",
       "Retweetsdb      0.9397      0.363      2.592      0.025       0.142       1.738\n",
       "Googledb        0.3109      0.308      1.009      0.335      -0.367       0.989\n",
       "Sentimentdb     0.4405      0.384      1.147      0.276      -0.405       1.286\n",
       "==============================================================================\n",
       "Omnibus:                        0.570   Durbin-Watson:                   0.957\n",
       "Prob(Omnibus):                  0.752   Jarque-Bera (JB):                0.605\n",
       "Skew:                           0.354   Prob(JB):                        0.739\n",
       "Kurtosis:                       2.317   Cond. No.                         8.79\n",
       "==============================================================================\n",
       "\n",
       "Warnings:\n",
       "[1] Standard Errors assume that the covariance matrix of the errors is correctly specified.\n",
       "\"\"\""
      ]
     },
     "execution_count": 435,
     "metadata": {},
     "output_type": "execute_result"
    }
   ],
   "source": [
    "lm_twitter(Microsoftdf)"
   ]
  },
  {
   "cell_type": "code",
   "execution_count": 573,
   "metadata": {},
   "outputs": [
    {
     "data": {
      "image/png": "[encoded data removed]",
      "text/plain": [
       "<Figure size 432x288 with 1 Axes>"
      ]
     },
     "metadata": {
      "needs_background": "light"
     },
     "output_type": "display_data"
    }
   ],
   "source": [
    "lm_plot(Microsoftdf)"
   ]
  },
  {
   "cell_type": "code",
   "execution_count": 436,
   "metadata": {},
   "outputs": [
    {
     "data": {
      "text/html": [
       "<table class=\"simpletable\">\n",
       "<caption>OLS Regression Results</caption>\n",
       "<tr>\n",
       "  <th>Dep. Variable:</th>          <td>Close</td>      <th>  R-squared (uncentered):</th>      <td>   0.814</td>\n",
       "</tr>\n",
       "<tr>\n",
       "  <th>Model:</th>                   <td>OLS</td>       <th>  Adj. R-squared (uncentered):</th> <td>   0.752</td>\n",
       "</tr>\n",
       "<tr>\n",
       "  <th>Method:</th>             <td>Least Squares</td>  <th>  F-statistic:       </th>          <td>   13.14</td>\n",
       "</tr>\n",
       "<tr>\n",
       "  <th>Date:</th>             <td>Wed, 18 Dec 2019</td> <th>  Prob (F-statistic):</th>          <td>0.000243</td>\n",
       "</tr>\n",
       "<tr>\n",
       "  <th>Time:</th>                 <td>01:58:41</td>     <th>  Log-Likelihood:    </th>          <td> -73.695</td>\n",
       "</tr>\n",
       "<tr>\n",
       "  <th>No. Observations:</th>      <td>    16</td>      <th>  AIC:               </th>          <td>   155.4</td>\n",
       "</tr>\n",
       "<tr>\n",
       "  <th>Df Residuals:</th>          <td>    12</td>      <th>  BIC:               </th>          <td>   158.5</td>\n",
       "</tr>\n",
       "<tr>\n",
       "  <th>Df Model:</th>              <td>     4</td>      <th>                     </th>              <td> </td>   \n",
       "</tr>\n",
       "<tr>\n",
       "  <th>Covariance Type:</th>      <td>nonrobust</td>    <th>                     </th>              <td> </td>   \n",
       "</tr>\n",
       "</table>\n",
       "<table class=\"simpletable\">\n",
       "<tr>\n",
       "       <td></td>          <th>coef</th>     <th>std err</th>      <th>t</th>      <th>P>|t|</th>  <th>[0.025</th>    <th>0.975]</th>  \n",
       "</tr>\n",
       "<tr>\n",
       "  <th>Favoritesdb</th> <td>   -1.5167</td> <td>    1.350</td> <td>   -1.124</td> <td> 0.283</td> <td>   -4.457</td> <td>    1.424</td>\n",
       "</tr>\n",
       "<tr>\n",
       "  <th>Retweetsdb</th>  <td>    1.7258</td> <td>    1.321</td> <td>    1.306</td> <td> 0.216</td> <td>   -1.153</td> <td>    4.604</td>\n",
       "</tr>\n",
       "<tr>\n",
       "  <th>Googledb</th>    <td>    0.4397</td> <td>    0.268</td> <td>    1.638</td> <td> 0.127</td> <td>   -0.145</td> <td>    1.024</td>\n",
       "</tr>\n",
       "<tr>\n",
       "  <th>Sentimentdb</th> <td>    0.5151</td> <td>    0.269</td> <td>    1.913</td> <td> 0.080</td> <td>   -0.072</td> <td>    1.102</td>\n",
       "</tr>\n",
       "</table>\n",
       "<table class=\"simpletable\">\n",
       "<tr>\n",
       "  <th>Omnibus:</th>       <td> 2.787</td> <th>  Durbin-Watson:     </th> <td>   0.762</td>\n",
       "</tr>\n",
       "<tr>\n",
       "  <th>Prob(Omnibus):</th> <td> 0.248</td> <th>  Jarque-Bera (JB):  </th> <td>   1.116</td>\n",
       "</tr>\n",
       "<tr>\n",
       "  <th>Skew:</th>          <td> 0.056</td> <th>  Prob(JB):          </th> <td>   0.572</td>\n",
       "</tr>\n",
       "<tr>\n",
       "  <th>Kurtosis:</th>      <td> 1.711</td> <th>  Cond. No.          </th> <td>    15.1</td>\n",
       "</tr>\n",
       "</table><br/><br/>Warnings:<br/>[1] Standard Errors assume that the covariance matrix of the errors is correctly specified."
      ],
      "text/plain": [
       "<class 'statsmodels.iolib.summary.Summary'>\n",
       "\"\"\"\n",
       "                                 OLS Regression Results                                \n",
       "=======================================================================================\n",
       "Dep. Variable:                  Close   R-squared (uncentered):                   0.814\n",
       "Model:                            OLS   Adj. R-squared (uncentered):              0.752\n",
       "Method:                 Least Squares   F-statistic:                              13.14\n",
       "Date:                Wed, 18 Dec 2019   Prob (F-statistic):                    0.000243\n",
       "Time:                        01:58:41   Log-Likelihood:                         -73.695\n",
       "No. Observations:                  16   AIC:                                      155.4\n",
       "Df Residuals:                      12   BIC:                                      158.5\n",
       "Df Model:                           4                                                  \n",
       "Covariance Type:            nonrobust                                                  \n",
       "===============================================================================\n",
       "                  coef    std err          t      P>|t|      [0.025      0.975]\n",
       "-------------------------------------------------------------------------------\n",
       "Favoritesdb    -1.5167      1.350     -1.124      0.283      -4.457       1.424\n",
       "Retweetsdb      1.7258      1.321      1.306      0.216      -1.153       4.604\n",
       "Googledb        0.4397      0.268      1.638      0.127      -0.145       1.024\n",
       "Sentimentdb     0.5151      0.269      1.913      0.080      -0.072       1.102\n",
       "==============================================================================\n",
       "Omnibus:                        2.787   Durbin-Watson:                   0.762\n",
       "Prob(Omnibus):                  0.248   Jarque-Bera (JB):                1.116\n",
       "Skew:                           0.056   Prob(JB):                        0.572\n",
       "Kurtosis:                       1.711   Cond. No.                         15.1\n",
       "==============================================================================\n",
       "\n",
       "Warnings:\n",
       "[1] Standard Errors assume that the covariance matrix of the errors is correctly specified.\n",
       "\"\"\""
      ]
     },
     "execution_count": 436,
     "metadata": {},
     "output_type": "execute_result"
    }
   ],
   "source": [
    "lm_twitter(Inteldf)"
   ]
  },
  {
   "cell_type": "code",
   "execution_count": 574,
   "metadata": {},
   "outputs": [
    {
     "data": {
      "image/png": "[encoded data removed]",
      "text/plain": [
       "<Figure size 432x288 with 1 Axes>"
      ]
     },
     "metadata": {
      "needs_background": "light"
     },
     "output_type": "display_data"
    }
   ],
   "source": [
    "lm_plot(Inteldf)"
   ]
  },
  {
   "cell_type": "code",
   "execution_count": 437,
   "metadata": {},
   "outputs": [
    {
     "data": {
      "text/html": [
       "<table class=\"simpletable\">\n",
       "<caption>OLS Regression Results</caption>\n",
       "<tr>\n",
       "  <th>Dep. Variable:</th>          <td>Close</td>      <th>  R-squared:         </th> <td>   0.352</td>\n",
       "</tr>\n",
       "<tr>\n",
       "  <th>Model:</th>                   <td>OLS</td>       <th>  Adj. R-squared:    </th> <td>   0.252</td>\n",
       "</tr>\n",
       "<tr>\n",
       "  <th>Method:</th>             <td>Least Squares</td>  <th>  F-statistic:       </th> <td>   3.525</td>\n",
       "</tr>\n",
       "<tr>\n",
       "  <th>Date:</th>             <td>Wed, 18 Dec 2019</td> <th>  Prob (F-statistic):</th>  <td>0.0598</td> \n",
       "</tr>\n",
       "<tr>\n",
       "  <th>Time:</th>                 <td>01:58:42</td>     <th>  Log-Likelihood:    </th> <td> -69.718</td>\n",
       "</tr>\n",
       "<tr>\n",
       "  <th>No. Observations:</th>      <td>    16</td>      <th>  AIC:               </th> <td>   145.4</td>\n",
       "</tr>\n",
       "<tr>\n",
       "  <th>Df Residuals:</th>          <td>    13</td>      <th>  BIC:               </th> <td>   147.8</td>\n",
       "</tr>\n",
       "<tr>\n",
       "  <th>Df Model:</th>              <td>     2</td>      <th>                     </th>     <td> </td>   \n",
       "</tr>\n",
       "<tr>\n",
       "  <th>Covariance Type:</th>      <td>nonrobust</td>    <th>                     </th>     <td> </td>   \n",
       "</tr>\n",
       "</table>\n",
       "<table class=\"simpletable\">\n",
       "<tr>\n",
       "       <td></td>          <th>coef</th>     <th>std err</th>      <th>t</th>      <th>P>|t|</th>  <th>[0.025</th>    <th>0.975]</th>  \n",
       "</tr>\n",
       "<tr>\n",
       "  <th>Favoritesdb</th> <td>    1.8115</td> <td>    1.678</td> <td>    1.079</td> <td> 0.300</td> <td>   -1.814</td> <td>    5.437</td>\n",
       "</tr>\n",
       "<tr>\n",
       "  <th>Retweetsdb</th>  <td>    1.8115</td> <td>    1.678</td> <td>    1.079</td> <td> 0.300</td> <td>   -1.814</td> <td>    5.437</td>\n",
       "</tr>\n",
       "<tr>\n",
       "  <th>Googledb</th>    <td>   -0.4663</td> <td>    0.247</td> <td>   -1.885</td> <td> 0.082</td> <td>   -1.001</td> <td>    0.068</td>\n",
       "</tr>\n",
       "<tr>\n",
       "  <th>Sentimentdb</th> <td>    0.4588</td> <td>    0.204</td> <td>    2.251</td> <td> 0.042</td> <td>    0.019</td> <td>    0.899</td>\n",
       "</tr>\n",
       "</table>\n",
       "<table class=\"simpletable\">\n",
       "<tr>\n",
       "  <th>Omnibus:</th>       <td> 0.577</td> <th>  Durbin-Watson:     </th> <td>   1.132</td>\n",
       "</tr>\n",
       "<tr>\n",
       "  <th>Prob(Omnibus):</th> <td> 0.749</td> <th>  Jarque-Bera (JB):  </th> <td>   0.291</td>\n",
       "</tr>\n",
       "<tr>\n",
       "  <th>Skew:</th>          <td>-0.312</td> <th>  Prob(JB):          </th> <td>   0.864</td>\n",
       "</tr>\n",
       "<tr>\n",
       "  <th>Kurtosis:</th>      <td> 2.779</td> <th>  Cond. No.          </th> <td>1.59e+17</td>\n",
       "</tr>\n",
       "</table><br/><br/>Warnings:<br/>[1] Standard Errors assume that the covariance matrix of the errors is correctly specified.<br/>[2] The smallest eigenvalue is 4.82e-30. This might indicate that there are<br/>strong multicollinearity problems or that the design matrix is singular."
      ],
      "text/plain": [
       "<class 'statsmodels.iolib.summary.Summary'>\n",
       "\"\"\"\n",
       "                            OLS Regression Results                            \n",
       "==============================================================================\n",
       "Dep. Variable:                  Close   R-squared:                       0.352\n",
       "Model:                            OLS   Adj. R-squared:                  0.252\n",
       "Method:                 Least Squares   F-statistic:                     3.525\n",
       "Date:                Wed, 18 Dec 2019   Prob (F-statistic):             0.0598\n",
       "Time:                        01:58:42   Log-Likelihood:                -69.718\n",
       "No. Observations:                  16   AIC:                             145.4\n",
       "Df Residuals:                      13   BIC:                             147.8\n",
       "Df Model:                           2                                         \n",
       "Covariance Type:            nonrobust                                         \n",
       "===============================================================================\n",
       "                  coef    std err          t      P>|t|      [0.025      0.975]\n",
       "-------------------------------------------------------------------------------\n",
       "Favoritesdb     1.8115      1.678      1.079      0.300      -1.814       5.437\n",
       "Retweetsdb      1.8115      1.678      1.079      0.300      -1.814       5.437\n",
       "Googledb       -0.4663      0.247     -1.885      0.082      -1.001       0.068\n",
       "Sentimentdb     0.4588      0.204      2.251      0.042       0.019       0.899\n",
       "==============================================================================\n",
       "Omnibus:                        0.577   Durbin-Watson:                   1.132\n",
       "Prob(Omnibus):                  0.749   Jarque-Bera (JB):                0.291\n",
       "Skew:                          -0.312   Prob(JB):                        0.864\n",
       "Kurtosis:                       2.779   Cond. No.                     1.59e+17\n",
       "==============================================================================\n",
       "\n",
       "Warnings:\n",
       "[1] Standard Errors assume that the covariance matrix of the errors is correctly specified.\n",
       "[2] The smallest eigenvalue is 4.82e-30. This might indicate that there are\n",
       "strong multicollinearity problems or that the design matrix is singular.\n",
       "\"\"\""
      ]
     },
     "execution_count": 437,
     "metadata": {},
     "output_type": "execute_result"
    }
   ],
   "source": [
    "lm_twitter(Appledf)"
   ]
  },
  {
   "cell_type": "code",
   "execution_count": 575,
   "metadata": {},
   "outputs": [
    {
     "data": {
      "image/png": "[encoded data removed]",
      "text/plain": [
       "<Figure size 432x288 with 1 Axes>"
      ]
     },
     "metadata": {
      "needs_background": "light"
     },
     "output_type": "display_data"
    }
   ],
   "source": [
    "lm_plot(Appledf)"
   ]
  },
  {
   "cell_type": "code",
   "execution_count": 449,
   "metadata": {},
   "outputs": [
    {
     "name": "stderr",
     "output_type": "stream",
     "text": [
      "C:\\Users\\Owner\\Anaconda3\\lib\\site-packages\\scipy\\stats\\stats.py:1450: UserWarning: kurtosistest only valid for n>=20 ... continuing anyway, n=16\n",
      "  \"anyway, n=%i\" % int(n))\n"
     ]
    },
    {
     "data": {
      "text/html": [
       "<table class=\"simpletable\">\n",
       "<caption>OLS Regression Results</caption>\n",
       "<tr>\n",
       "  <th>Dep. Variable:</th>          <td>Close</td>      <th>  R-squared (uncentered):</th>      <td>   0.845</td>\n",
       "</tr>\n",
       "<tr>\n",
       "  <th>Model:</th>                   <td>OLS</td>       <th>  Adj. R-squared (uncentered):</th> <td>   0.794</td>\n",
       "</tr>\n",
       "<tr>\n",
       "  <th>Method:</th>             <td>Least Squares</td>  <th>  F-statistic:       </th>          <td>   16.38</td>\n",
       "</tr>\n",
       "<tr>\n",
       "  <th>Date:</th>             <td>Wed, 18 Dec 2019</td> <th>  Prob (F-statistic):</th>          <td>8.35e-05</td>\n",
       "</tr>\n",
       "<tr>\n",
       "  <th>Time:</th>                 <td>02:11:16</td>     <th>  Log-Likelihood:    </th>          <td> -74.494</td>\n",
       "</tr>\n",
       "<tr>\n",
       "  <th>No. Observations:</th>      <td>    16</td>      <th>  AIC:               </th>          <td>   157.0</td>\n",
       "</tr>\n",
       "<tr>\n",
       "  <th>Df Residuals:</th>          <td>    12</td>      <th>  BIC:               </th>          <td>   160.1</td>\n",
       "</tr>\n",
       "<tr>\n",
       "  <th>Df Model:</th>              <td>     4</td>      <th>                     </th>              <td> </td>   \n",
       "</tr>\n",
       "<tr>\n",
       "  <th>Covariance Type:</th>      <td>nonrobust</td>    <th>                     </th>              <td> </td>   \n",
       "</tr>\n",
       "</table>\n",
       "<table class=\"simpletable\">\n",
       "<tr>\n",
       "       <td></td>          <th>coef</th>     <th>std err</th>      <th>t</th>      <th>P>|t|</th>  <th>[0.025</th>    <th>0.975]</th>  \n",
       "</tr>\n",
       "<tr>\n",
       "  <th>Favoritesdb</th> <td>    0.4137</td> <td>    0.539</td> <td>    0.767</td> <td> 0.458</td> <td>   -0.761</td> <td>    1.588</td>\n",
       "</tr>\n",
       "<tr>\n",
       "  <th>Retweetsdb</th>  <td>    0.1922</td> <td>    0.558</td> <td>    0.345</td> <td> 0.736</td> <td>   -1.023</td> <td>    1.407</td>\n",
       "</tr>\n",
       "<tr>\n",
       "  <th>Googledb</th>    <td>    0.8711</td> <td>    0.182</td> <td>    4.789</td> <td> 0.000</td> <td>    0.475</td> <td>    1.267</td>\n",
       "</tr>\n",
       "<tr>\n",
       "  <th>Sentimentdb</th> <td>   -0.5897</td> <td>    0.315</td> <td>   -1.874</td> <td> 0.086</td> <td>   -1.275</td> <td>    0.096</td>\n",
       "</tr>\n",
       "</table>\n",
       "<table class=\"simpletable\">\n",
       "<tr>\n",
       "  <th>Omnibus:</th>       <td> 6.047</td> <th>  Durbin-Watson:     </th> <td>   2.216</td>\n",
       "</tr>\n",
       "<tr>\n",
       "  <th>Prob(Omnibus):</th> <td> 0.049</td> <th>  Jarque-Bera (JB):  </th> <td>   3.400</td>\n",
       "</tr>\n",
       "<tr>\n",
       "  <th>Skew:</th>          <td> 1.075</td> <th>  Prob(JB):          </th> <td>   0.183</td>\n",
       "</tr>\n",
       "<tr>\n",
       "  <th>Kurtosis:</th>      <td> 3.694</td> <th>  Cond. No.          </th> <td>    7.67</td>\n",
       "</tr>\n",
       "</table><br/><br/>Warnings:<br/>[1] Standard Errors assume that the covariance matrix of the errors is correctly specified."
      ],
      "text/plain": [
       "<class 'statsmodels.iolib.summary.Summary'>\n",
       "\"\"\"\n",
       "                                 OLS Regression Results                                \n",
       "=======================================================================================\n",
       "Dep. Variable:                  Close   R-squared (uncentered):                   0.845\n",
       "Model:                            OLS   Adj. R-squared (uncentered):              0.794\n",
       "Method:                 Least Squares   F-statistic:                              16.38\n",
       "Date:                Wed, 18 Dec 2019   Prob (F-statistic):                    8.35e-05\n",
       "Time:                        02:11:16   Log-Likelihood:                         -74.494\n",
       "No. Observations:                  16   AIC:                                      157.0\n",
       "Df Residuals:                      12   BIC:                                      160.1\n",
       "Df Model:                           4                                                  \n",
       "Covariance Type:            nonrobust                                                  \n",
       "===============================================================================\n",
       "                  coef    std err          t      P>|t|      [0.025      0.975]\n",
       "-------------------------------------------------------------------------------\n",
       "Favoritesdb     0.4137      0.539      0.767      0.458      -0.761       1.588\n",
       "Retweetsdb      0.1922      0.558      0.345      0.736      -1.023       1.407\n",
       "Googledb        0.8711      0.182      4.789      0.000       0.475       1.267\n",
       "Sentimentdb    -0.5897      0.315     -1.874      0.086      -1.275       0.096\n",
       "==============================================================================\n",
       "Omnibus:                        6.047   Durbin-Watson:                   2.216\n",
       "Prob(Omnibus):                  0.049   Jarque-Bera (JB):                3.400\n",
       "Skew:                           1.075   Prob(JB):                        0.183\n",
       "Kurtosis:                       3.694   Cond. No.                         7.67\n",
       "==============================================================================\n",
       "\n",
       "Warnings:\n",
       "[1] Standard Errors assume that the covariance matrix of the errors is correctly specified.\n",
       "\"\"\""
      ]
     },
     "execution_count": 449,
     "metadata": {},
     "output_type": "execute_result"
    }
   ],
   "source": [
    "lm_twitter(Cocacoladf)"
   ]
  },
  {
   "cell_type": "code",
   "execution_count": 577,
   "metadata": {},
   "outputs": [
    {
     "data": {
      "image/png": "[encoded data removed]",
      "text/plain": [
       "<Figure size 432x288 with 1 Axes>"
      ]
     },
     "metadata": {
      "needs_background": "light"
     },
     "output_type": "display_data"
    }
   ],
   "source": [
    "lm_plot(Cocacoladf)"
   ]
  },
  {
   "cell_type": "code",
   "execution_count": 462,
   "metadata": {},
   "outputs": [
    {
     "name": "stderr",
     "output_type": "stream",
     "text": [
      "C:\\Users\\Owner\\Anaconda3\\lib\\site-packages\\scipy\\stats\\stats.py:1450: UserWarning: kurtosistest only valid for n>=20 ... continuing anyway, n=14\n",
      "  \"anyway, n=%i\" % int(n))\n"
     ]
    },
    {
     "data": {
      "text/html": [
       "<table class=\"simpletable\">\n",
       "<caption>OLS Regression Results</caption>\n",
       "<tr>\n",
       "  <th>Dep. Variable:</th>          <td>Close</td>      <th>  R-squared (uncentered):</th>      <td>   0.719</td>\n",
       "</tr>\n",
       "<tr>\n",
       "  <th>Model:</th>                   <td>OLS</td>       <th>  Adj. R-squared (uncentered):</th> <td>   0.607</td>\n",
       "</tr>\n",
       "<tr>\n",
       "  <th>Method:</th>             <td>Least Squares</td>  <th>  F-statistic:       </th>          <td>   6.404</td>\n",
       "</tr>\n",
       "<tr>\n",
       "  <th>Date:</th>             <td>Wed, 18 Dec 2019</td> <th>  Prob (F-statistic):</th>           <td>0.00802</td>\n",
       "</tr>\n",
       "<tr>\n",
       "  <th>Time:</th>                 <td>02:33:28</td>     <th>  Log-Likelihood:    </th>          <td> -64.561</td>\n",
       "</tr>\n",
       "<tr>\n",
       "  <th>No. Observations:</th>      <td>    14</td>      <th>  AIC:               </th>          <td>   137.1</td>\n",
       "</tr>\n",
       "<tr>\n",
       "  <th>Df Residuals:</th>          <td>    10</td>      <th>  BIC:               </th>          <td>   139.7</td>\n",
       "</tr>\n",
       "<tr>\n",
       "  <th>Df Model:</th>              <td>     4</td>      <th>                     </th>              <td> </td>   \n",
       "</tr>\n",
       "<tr>\n",
       "  <th>Covariance Type:</th>      <td>nonrobust</td>    <th>                     </th>              <td> </td>   \n",
       "</tr>\n",
       "</table>\n",
       "<table class=\"simpletable\">\n",
       "<tr>\n",
       "       <td></td>          <th>coef</th>     <th>std err</th>      <th>t</th>      <th>P>|t|</th>  <th>[0.025</th>    <th>0.975]</th>  \n",
       "</tr>\n",
       "<tr>\n",
       "  <th>Favoritesdb</th> <td>    0.5858</td> <td>    1.002</td> <td>    0.585</td> <td> 0.572</td> <td>   -1.646</td> <td>    2.818</td>\n",
       "</tr>\n",
       "<tr>\n",
       "  <th>Retweetsdb</th>  <td>   -0.7144</td> <td>    0.969</td> <td>   -0.737</td> <td> 0.478</td> <td>   -2.874</td> <td>    1.445</td>\n",
       "</tr>\n",
       "<tr>\n",
       "  <th>Googledb</th>    <td>    0.1170</td> <td>    0.489</td> <td>    0.239</td> <td> 0.816</td> <td>   -0.972</td> <td>    1.206</td>\n",
       "</tr>\n",
       "<tr>\n",
       "  <th>Sentimentdb</th> <td>    0.5250</td> <td>    0.252</td> <td>    2.083</td> <td> 0.064</td> <td>   -0.037</td> <td>    1.087</td>\n",
       "</tr>\n",
       "</table>\n",
       "<table class=\"simpletable\">\n",
       "<tr>\n",
       "  <th>Omnibus:</th>       <td> 3.468</td> <th>  Durbin-Watson:     </th> <td>   0.717</td>\n",
       "</tr>\n",
       "<tr>\n",
       "  <th>Prob(Omnibus):</th> <td> 0.177</td> <th>  Jarque-Bera (JB):  </th> <td>   1.972</td>\n",
       "</tr>\n",
       "<tr>\n",
       "  <th>Skew:</th>          <td> 0.919</td> <th>  Prob(JB):          </th> <td>   0.373</td>\n",
       "</tr>\n",
       "<tr>\n",
       "  <th>Kurtosis:</th>      <td> 2.969</td> <th>  Cond. No.          </th> <td>    15.8</td>\n",
       "</tr>\n",
       "</table><br/><br/>Warnings:<br/>[1] Standard Errors assume that the covariance matrix of the errors is correctly specified."
      ],
      "text/plain": [
       "<class 'statsmodels.iolib.summary.Summary'>\n",
       "\"\"\"\n",
       "                                 OLS Regression Results                                \n",
       "=======================================================================================\n",
       "Dep. Variable:                  Close   R-squared (uncentered):                   0.719\n",
       "Model:                            OLS   Adj. R-squared (uncentered):              0.607\n",
       "Method:                 Least Squares   F-statistic:                              6.404\n",
       "Date:                Wed, 18 Dec 2019   Prob (F-statistic):                     0.00802\n",
       "Time:                        02:33:28   Log-Likelihood:                         -64.561\n",
       "No. Observations:                  14   AIC:                                      137.1\n",
       "Df Residuals:                      10   BIC:                                      139.7\n",
       "Df Model:                           4                                                  \n",
       "Covariance Type:            nonrobust                                                  \n",
       "===============================================================================\n",
       "                  coef    std err          t      P>|t|      [0.025      0.975]\n",
       "-------------------------------------------------------------------------------\n",
       "Favoritesdb     0.5858      1.002      0.585      0.572      -1.646       2.818\n",
       "Retweetsdb     -0.7144      0.969     -0.737      0.478      -2.874       1.445\n",
       "Googledb        0.1170      0.489      0.239      0.816      -0.972       1.206\n",
       "Sentimentdb     0.5250      0.252      2.083      0.064      -0.037       1.087\n",
       "==============================================================================\n",
       "Omnibus:                        3.468   Durbin-Watson:                   0.717\n",
       "Prob(Omnibus):                  0.177   Jarque-Bera (JB):                1.972\n",
       "Skew:                           0.919   Prob(JB):                        0.373\n",
       "Kurtosis:                       2.969   Cond. No.                         15.8\n",
       "==============================================================================\n",
       "\n",
       "Warnings:\n",
       "[1] Standard Errors assume that the covariance matrix of the errors is correctly specified.\n",
       "\"\"\""
      ]
     },
     "execution_count": 462,
     "metadata": {},
     "output_type": "execute_result"
    }
   ],
   "source": [
    "lm_twitter(Amazondf)"
   ]
  },
  {
   "cell_type": "code",
   "execution_count": 578,
   "metadata": {},
   "outputs": [
    {
     "data": {
      "image/png": "[encoded data removed]",
      "text/plain": [
       "<Figure size 432x288 with 1 Axes>"
      ]
     },
     "metadata": {
      "needs_background": "light"
     },
     "output_type": "display_data"
    }
   ],
   "source": [
    "lm_plot(Amazondf)"
   ]
  },
  {
   "cell_type": "code",
   "execution_count": 497,
   "metadata": {},
   "outputs": [
    {
     "name": "stderr",
     "output_type": "stream",
     "text": [
      "C:\\Users\\Owner\\Anaconda3\\lib\\site-packages\\scipy\\stats\\stats.py:1450: UserWarning: kurtosistest only valid for n>=20 ... continuing anyway, n=16\n",
      "  \"anyway, n=%i\" % int(n))\n"
     ]
    },
    {
     "data": {
      "text/html": [
       "<table class=\"simpletable\">\n",
       "<caption>OLS Regression Results</caption>\n",
       "<tr>\n",
       "  <th>Dep. Variable:</th>          <td>Close</td>      <th>  R-squared (uncentered):</th>      <td>   0.822</td>\n",
       "</tr>\n",
       "<tr>\n",
       "  <th>Model:</th>                   <td>OLS</td>       <th>  Adj. R-squared (uncentered):</th> <td>   0.763</td>\n",
       "</tr>\n",
       "<tr>\n",
       "  <th>Method:</th>             <td>Least Squares</td>  <th>  F-statistic:       </th>          <td>   13.85</td>\n",
       "</tr>\n",
       "<tr>\n",
       "  <th>Date:</th>             <td>Wed, 18 Dec 2019</td> <th>  Prob (F-statistic):</th>          <td>0.000189</td>\n",
       "</tr>\n",
       "<tr>\n",
       "  <th>Time:</th>                 <td>03:09:29</td>     <th>  Log-Likelihood:    </th>          <td> -73.677</td>\n",
       "</tr>\n",
       "<tr>\n",
       "  <th>No. Observations:</th>      <td>    16</td>      <th>  AIC:               </th>          <td>   155.4</td>\n",
       "</tr>\n",
       "<tr>\n",
       "  <th>Df Residuals:</th>          <td>    12</td>      <th>  BIC:               </th>          <td>   158.4</td>\n",
       "</tr>\n",
       "<tr>\n",
       "  <th>Df Model:</th>              <td>     4</td>      <th>                     </th>              <td> </td>   \n",
       "</tr>\n",
       "<tr>\n",
       "  <th>Covariance Type:</th>      <td>nonrobust</td>    <th>                     </th>              <td> </td>   \n",
       "</tr>\n",
       "</table>\n",
       "<table class=\"simpletable\">\n",
       "<tr>\n",
       "       <td></td>          <th>coef</th>     <th>std err</th>      <th>t</th>      <th>P>|t|</th>  <th>[0.025</th>    <th>0.975]</th>  \n",
       "</tr>\n",
       "<tr>\n",
       "  <th>Favoritesdb</th> <td>    1.1395</td> <td>    0.424</td> <td>    2.690</td> <td> 0.020</td> <td>    0.216</td> <td>    2.063</td>\n",
       "</tr>\n",
       "<tr>\n",
       "  <th>Retweetsdb</th>  <td>    0.8294</td> <td>    0.296</td> <td>    2.806</td> <td> 0.016</td> <td>    0.185</td> <td>    1.473</td>\n",
       "</tr>\n",
       "<tr>\n",
       "  <th>Googledb</th>    <td>    0.0138</td> <td>    0.270</td> <td>    0.051</td> <td> 0.960</td> <td>   -0.574</td> <td>    0.601</td>\n",
       "</tr>\n",
       "<tr>\n",
       "  <th>Sentimentdb</th> <td>    0.1065</td> <td>    0.359</td> <td>    0.296</td> <td> 0.772</td> <td>   -0.676</td> <td>    0.889</td>\n",
       "</tr>\n",
       "</table>\n",
       "<table class=\"simpletable\">\n",
       "<tr>\n",
       "  <th>Omnibus:</th>       <td> 0.874</td> <th>  Durbin-Watson:     </th> <td>   0.758</td>\n",
       "</tr>\n",
       "<tr>\n",
       "  <th>Prob(Omnibus):</th> <td> 0.646</td> <th>  Jarque-Bera (JB):  </th> <td>   0.377</td>\n",
       "</tr>\n",
       "<tr>\n",
       "  <th>Skew:</th>          <td> 0.372</td> <th>  Prob(JB):          </th> <td>   0.828</td>\n",
       "</tr>\n",
       "<tr>\n",
       "  <th>Kurtosis:</th>      <td> 2.887</td> <th>  Cond. No.          </th> <td>    4.11</td>\n",
       "</tr>\n",
       "</table><br/><br/>Warnings:<br/>[1] Standard Errors assume that the covariance matrix of the errors is correctly specified."
      ],
      "text/plain": [
       "<class 'statsmodels.iolib.summary.Summary'>\n",
       "\"\"\"\n",
       "                                 OLS Regression Results                                \n",
       "=======================================================================================\n",
       "Dep. Variable:                  Close   R-squared (uncentered):                   0.822\n",
       "Model:                            OLS   Adj. R-squared (uncentered):              0.763\n",
       "Method:                 Least Squares   F-statistic:                              13.85\n",
       "Date:                Wed, 18 Dec 2019   Prob (F-statistic):                    0.000189\n",
       "Time:                        03:09:29   Log-Likelihood:                         -73.677\n",
       "No. Observations:                  16   AIC:                                      155.4\n",
       "Df Residuals:                      12   BIC:                                      158.4\n",
       "Df Model:                           4                                                  \n",
       "Covariance Type:            nonrobust                                                  \n",
       "===============================================================================\n",
       "                  coef    std err          t      P>|t|      [0.025      0.975]\n",
       "-------------------------------------------------------------------------------\n",
       "Favoritesdb     1.1395      0.424      2.690      0.020       0.216       2.063\n",
       "Retweetsdb      0.8294      0.296      2.806      0.016       0.185       1.473\n",
       "Googledb        0.0138      0.270      0.051      0.960      -0.574       0.601\n",
       "Sentimentdb     0.1065      0.359      0.296      0.772      -0.676       0.889\n",
       "==============================================================================\n",
       "Omnibus:                        0.874   Durbin-Watson:                   0.758\n",
       "Prob(Omnibus):                  0.646   Jarque-Bera (JB):                0.377\n",
       "Skew:                           0.372   Prob(JB):                        0.828\n",
       "Kurtosis:                       2.887   Cond. No.                         4.11\n",
       "==============================================================================\n",
       "\n",
       "Warnings:\n",
       "[1] Standard Errors assume that the covariance matrix of the errors is correctly specified.\n",
       "\"\"\""
      ]
     },
     "execution_count": 497,
     "metadata": {},
     "output_type": "execute_result"
    }
   ],
   "source": [
    "lm_twitter(Targetdf)"
   ]
  },
  {
   "cell_type": "code",
   "execution_count": 579,
   "metadata": {},
   "outputs": [
    {
     "data": {
      "image/png": "[encoded data removed]",
      "text/plain": [
       "<Figure size 432x288 with 1 Axes>"
      ]
     },
     "metadata": {
      "needs_background": "light"
     },
     "output_type": "display_data"
    }
   ],
   "source": [
    "lm_plot(Targetdf)"
   ]
  },
  {
   "cell_type": "code",
   "execution_count": 498,
   "metadata": {},
   "outputs": [
    {
     "data": {
      "text/html": [
       "<table class=\"simpletable\">\n",
       "<caption>OLS Regression Results</caption>\n",
       "<tr>\n",
       "  <th>Dep. Variable:</th>          <td>Close</td>      <th>  R-squared (uncentered):</th>      <td>   0.595</td>\n",
       "</tr>\n",
       "<tr>\n",
       "  <th>Model:</th>                   <td>OLS</td>       <th>  Adj. R-squared (uncentered):</th> <td>   0.459</td>\n",
       "</tr>\n",
       "<tr>\n",
       "  <th>Method:</th>             <td>Least Squares</td>  <th>  F-statistic:       </th>          <td>   4.400</td>\n",
       "</tr>\n",
       "<tr>\n",
       "  <th>Date:</th>             <td>Wed, 18 Dec 2019</td> <th>  Prob (F-statistic):</th>           <td>0.0203</td> \n",
       "</tr>\n",
       "<tr>\n",
       "  <th>Time:</th>                 <td>03:09:51</td>     <th>  Log-Likelihood:    </th>          <td> -81.862</td>\n",
       "</tr>\n",
       "<tr>\n",
       "  <th>No. Observations:</th>      <td>    16</td>      <th>  AIC:               </th>          <td>   171.7</td>\n",
       "</tr>\n",
       "<tr>\n",
       "  <th>Df Residuals:</th>          <td>    12</td>      <th>  BIC:               </th>          <td>   174.8</td>\n",
       "</tr>\n",
       "<tr>\n",
       "  <th>Df Model:</th>              <td>     4</td>      <th>                     </th>              <td> </td>   \n",
       "</tr>\n",
       "<tr>\n",
       "  <th>Covariance Type:</th>      <td>nonrobust</td>    <th>                     </th>              <td> </td>   \n",
       "</tr>\n",
       "</table>\n",
       "<table class=\"simpletable\">\n",
       "<tr>\n",
       "       <td></td>          <th>coef</th>     <th>std err</th>      <th>t</th>      <th>P>|t|</th>  <th>[0.025</th>    <th>0.975]</th>  \n",
       "</tr>\n",
       "<tr>\n",
       "  <th>Favoritesdb</th> <td>    0.5499</td> <td>    0.593</td> <td>    0.928</td> <td> 0.372</td> <td>   -0.742</td> <td>    1.842</td>\n",
       "</tr>\n",
       "<tr>\n",
       "  <th>Retweetsdb</th>  <td>    0.5821</td> <td>    0.558</td> <td>    1.043</td> <td> 0.318</td> <td>   -0.634</td> <td>    1.798</td>\n",
       "</tr>\n",
       "<tr>\n",
       "  <th>Googledb</th>    <td>    0.1843</td> <td>    0.473</td> <td>    0.389</td> <td> 0.704</td> <td>   -0.847</td> <td>    1.216</td>\n",
       "</tr>\n",
       "<tr>\n",
       "  <th>Sentimentdb</th> <td>    0.4852</td> <td>    0.326</td> <td>    1.486</td> <td> 0.163</td> <td>   -0.226</td> <td>    1.197</td>\n",
       "</tr>\n",
       "</table>\n",
       "<table class=\"simpletable\">\n",
       "<tr>\n",
       "  <th>Omnibus:</th>       <td> 1.248</td> <th>  Durbin-Watson:     </th> <td>   0.938</td>\n",
       "</tr>\n",
       "<tr>\n",
       "  <th>Prob(Omnibus):</th> <td> 0.536</td> <th>  Jarque-Bera (JB):  </th> <td>   0.794</td>\n",
       "</tr>\n",
       "<tr>\n",
       "  <th>Skew:</th>          <td>-0.064</td> <th>  Prob(JB):          </th> <td>   0.672</td>\n",
       "</tr>\n",
       "<tr>\n",
       "  <th>Kurtosis:</th>      <td> 1.916</td> <th>  Cond. No.          </th> <td>    3.44</td>\n",
       "</tr>\n",
       "</table><br/><br/>Warnings:<br/>[1] Standard Errors assume that the covariance matrix of the errors is correctly specified."
      ],
      "text/plain": [
       "<class 'statsmodels.iolib.summary.Summary'>\n",
       "\"\"\"\n",
       "                                 OLS Regression Results                                \n",
       "=======================================================================================\n",
       "Dep. Variable:                  Close   R-squared (uncentered):                   0.595\n",
       "Model:                            OLS   Adj. R-squared (uncentered):              0.459\n",
       "Method:                 Least Squares   F-statistic:                              4.400\n",
       "Date:                Wed, 18 Dec 2019   Prob (F-statistic):                      0.0203\n",
       "Time:                        03:09:51   Log-Likelihood:                         -81.862\n",
       "No. Observations:                  16   AIC:                                      171.7\n",
       "Df Residuals:                      12   BIC:                                      174.8\n",
       "Df Model:                           4                                                  \n",
       "Covariance Type:            nonrobust                                                  \n",
       "===============================================================================\n",
       "                  coef    std err          t      P>|t|      [0.025      0.975]\n",
       "-------------------------------------------------------------------------------\n",
       "Favoritesdb     0.5499      0.593      0.928      0.372      -0.742       1.842\n",
       "Retweetsdb      0.5821      0.558      1.043      0.318      -0.634       1.798\n",
       "Googledb        0.1843      0.473      0.389      0.704      -0.847       1.216\n",
       "Sentimentdb     0.4852      0.326      1.486      0.163      -0.226       1.197\n",
       "==============================================================================\n",
       "Omnibus:                        1.248   Durbin-Watson:                   0.938\n",
       "Prob(Omnibus):                  0.536   Jarque-Bera (JB):                0.794\n",
       "Skew:                          -0.064   Prob(JB):                        0.672\n",
       "Kurtosis:                       1.916   Cond. No.                         3.44\n",
       "==============================================================================\n",
       "\n",
       "Warnings:\n",
       "[1] Standard Errors assume that the covariance matrix of the errors is correctly specified.\n",
       "\"\"\""
      ]
     },
     "execution_count": 498,
     "metadata": {},
     "output_type": "execute_result"
    }
   ],
   "source": [
    "lm_twitter(Verizondf)"
   ]
  },
  {
   "cell_type": "code",
   "execution_count": 580,
   "metadata": {},
   "outputs": [
    {
     "data": {
      "image/png": "[encoded data removed]",
      "text/plain": [
       "<Figure size 432x288 with 1 Axes>"
      ]
     },
     "metadata": {
      "needs_background": "light"
     },
     "output_type": "display_data"
    }
   ],
   "source": [
    "lm_plot(Verizondf)"
   ]
  },
  {
   "cell_type": "code",
   "execution_count": 581,
   "metadata": {},
   "outputs": [
    {
     "name": "stderr",
     "output_type": "stream",
     "text": [
      "C:\\Users\\Owner\\Anaconda3\\lib\\site-packages\\ipykernel_launcher.py:1: FutureWarning: Sorting because non-concatenation axis is not aligned. A future version\n",
      "of pandas will change to not sort by default.\n",
      "\n",
      "To accept the future behavior, pass 'sort=False'.\n",
      "\n",
      "To retain the current behavior and silence the warning, pass 'sort=True'.\n",
      "\n",
      "  \"\"\"Entry point for launching an IPython kernel.\n"
     ]
    }
   ],
   "source": [
    "topten = pd.concat([Nike, Googledf, Disneydf, Microsoftdf, Inteldf, Appledf, Cocacoladf, Amazondf, Targetdf, Verizondf])"
   ]
  },
  {
   "cell_type": "code",
   "execution_count": 607,
   "metadata": {},
   "outputs": [],
   "source": [
    "from sklearn.preprocessing import MinMaxScaler\n",
    "scaler=MinMaxScaler(feature_range=(0,1))\n",
    "topten[\"Color\"] = scaler.fit_transform(topten[[\"Close\"]])      "
   ]
  },
  {
   "cell_type": "code",
   "execution_count": 499,
   "metadata": {},
   "outputs": [
    {
     "data": {
      "image/png": "[encoded data removed]",
      "text/plain": [
       "<Figure size 432x288 with 1 Axes>"
      ]
     },
     "metadata": {
      "needs_background": "light"
     },
     "output_type": "display_data"
    }
   ],
   "source": [
    "# Create plot\n",
    "fig = plt.figure()\n",
    "ax = fig.add_subplot(1, 1, 1)\n",
    "ax.scatter(Nike[\"Googledb\"],Nike[\"Close\"] , alpha=0.8, color = \"red\", edgecolors='none', s=30, label=\"Nike\")\n",
    "ax.scatter(Googledf[\"Googledb\"],Googledf[\"Close\"] , alpha=0.8, color = \"blue\", edgecolors='none', s=30, label=\"Google\")\n",
    "ax.scatter(Disneydf[\"Googledb\"],Disneydf[\"Close\"] , alpha=0.8, color =  \"green\", edgecolors='none', s=30, label=\"Disney\")\n",
    "ax.scatter(Microsoftdf[\"Googledb\"], Microsoftdf[\"Close\"] , alpha=0.8, color =  \"purple\", edgecolors='none', s=30, label=\"Microsoft\")\n",
    "ax.scatter(Inteldf[\"Googledb\"], Inteldf[\"Close\"] , alpha=0.8, color =  \"orange\", edgecolors='none', s=30, label=\"Intel\")\n",
    "ax.scatter(Appledf[\"Googledb\"], Appledf[\"Close\"] , alpha=0.8, color =  \"yellow\", edgecolors='none', s=30, label=\"Apple\")\n",
    "ax.scatter(Cocacoladf[\"Googledb\"], Cocacoladf[\"Close\"] , alpha=0.8, color =  \"Black\", edgecolors='none', s=30, label=\"Coca-Cola\")\n",
    "ax.scatter(Amazondf[\"Googledb\"], Amazondf[\"Close\"] , alpha=0.8, color =  \"cyan\", edgecolors='none', s=30, label=\"Amazon\")\n",
    "ax.scatter(Targetdf[\"Googledb\"], Targetdf[\"Close\"] , alpha=0.8, color =  \"brown\", edgecolors='none', s=30, label=\"Target\")\n",
    "ax.scatter(Verizondf[\"Googledb\"], Verizondf[\"Close\"] , alpha=0.8, color =  \"indigo\", edgecolors='none', s=30, label=\"verizon\")\n",
    "\n",
    "\n",
    "plt.title('Test')\n",
    "plt.legend(loc=2)\n",
    "plt.show()"
   ]
  },
  {
   "cell_type": "code",
   "execution_count": 500,
   "metadata": {},
   "outputs": [
    {
     "data": {
      "image/png": "[encoded data removed]",
      "text/plain": [
       "<Figure size 432x288 with 1 Axes>"
      ]
     },
     "metadata": {
      "needs_background": "light"
     },
     "output_type": "display_data"
    }
   ],
   "source": [
    "# Create plot\n",
    "fig = plt.figure()\n",
    "ax = fig.add_subplot(1, 1, 1)\n",
    "ax.scatter(Nike[\"Sentimentdb\"],Nike[\"Close\"] , alpha=0.8, color = \"red\", edgecolors='none', s=30, label=\"Nike\")\n",
    "ax.scatter(Googledf[\"Sentimentdb\"],Googledf[\"Close\"] , alpha=0.8, color = \"blue\", edgecolors='none', s=30, label=\"Google\")\n",
    "ax.scatter(Disneydf[\"Sentimentdb\"],Disneydf[\"Close\"] , alpha=0.8, color =  \"green\", edgecolors='none', s=30, label=\"Disney\")\n",
    "ax.scatter(Microsoftdf[\"Sentimentdb\"], Microsoftdf[\"Close\"] , alpha=0.8, color =  \"purple\", edgecolors='none', s=30, label=\"Microsoft\")\n",
    "ax.scatter(Inteldf[\"Sentimentdb\"], Inteldf[\"Close\"] , alpha=0.8, color =  \"orange\", edgecolors='none', s=30, label=\"Intel\")\n",
    "ax.scatter(Appledf[\"Sentimentdb\"], Appledf[\"Close\"] , alpha=0.8, color =  \"yellow\", edgecolors='none', s=30, label=\"Apple\")\n",
    "ax.scatter(Cocacoladf[\"Sentimentdb\"], Cocacoladf[\"Close\"] , alpha=0.8, color =  \"Black\", edgecolors='none', s=30, label=\"Coca-Cola\")\n",
    "ax.scatter(Amazondf[\"Sentimentdb\"], Amazondf[\"Close\"] , alpha=0.8, color =  \"cyan\", edgecolors='none', s=30, label=\"Amazon\")\n",
    "ax.scatter(Targetdf[\"Sentimentdb\"], Targetdf[\"Close\"] , alpha=0.8, color =  \"brown\", edgecolors='none', s=30, label=\"Target\")\n",
    "ax.scatter(Verizondf[\"Sentimentdb\"], Verizondf[\"Close\"] , alpha=0.8, color =  \"indigo\", edgecolors='none', s=30, label=\"verizon\")\n",
    "\n",
    "\n",
    "plt.title('Test')\n",
    "plt.legend(loc=2)\n",
    "plt.show()"
   ]
  },
  {
   "cell_type": "code",
   "execution_count": 501,
   "metadata": {},
   "outputs": [
    {
     "data": {
      "image/png": "[encoded data removed]",
      "text/plain": [
       "<Figure size 432x288 with 1 Axes>"
      ]
     },
     "metadata": {
      "needs_background": "light"
     },
     "output_type": "display_data"
    }
   ],
   "source": [
    "# Create plot\n",
    "fig = plt.figure()\n",
    "ax = fig.add_subplot(1, 1, 1)\n",
    "ax.scatter(Nike[\"Favoritesdb\"],Nike[\"Close\"] , alpha=0.8, color = \"red\", edgecolors='none', s=30, label=\"Nike\")\n",
    "ax.scatter(Googledf[\"Favoritesdb\"],Googledf[\"Close\"] , alpha=0.8, color = \"blue\", edgecolors='none', s=30, label=\"Google\")\n",
    "ax.scatter(Disneydf[\"Favoritesdb\"],Disneydf[\"Close\"] , alpha=0.8, color =  \"green\", edgecolors='none', s=30, label=\"Disney\")\n",
    "ax.scatter(Microsoftdf[\"Favoritesdb\"], Microsoftdf[\"Close\"] , alpha=0.8, color =  \"purple\", edgecolors='none', s=30, label=\"Microsoft\")\n",
    "ax.scatter(Inteldf[\"Favoritesdb\"], Inteldf[\"Close\"] , alpha=0.8, color =  \"orange\", edgecolors='none', s=30, label=\"Intel\")\n",
    "ax.scatter(Cocacoladf[\"Favoritesdb\"], Cocacoladf[\"Close\"] , alpha=0.8, color =  \"Black\", edgecolors='none', s=30, label=\"Coca-Cola\")\n",
    "ax.scatter(Amazondf[\"Favoritesdb\"], Amazondf[\"Close\"] , alpha=0.8, color =  \"cyan\", edgecolors='none', s=30, label=\"Amazon\")\n",
    "ax.scatter(Targetdf[\"Favoritesdb\"], Targetdf[\"Close\"] , alpha=0.8, color =  \"brown\", edgecolors='none', s=30, label=\"Target\")\n",
    "ax.scatter(Verizondf[\"Favoritesdb\"], Verizondf[\"Close\"] , alpha=0.8, color =  \"indigo\", edgecolors='none', s=30, label=\"verizon\")\n",
    "\n",
    "\n",
    "plt.title('Test')\n",
    "plt.legend(loc=2)\n",
    "plt.show()"
   ]
  },
  {
   "cell_type": "code",
   "execution_count": 502,
   "metadata": {},
   "outputs": [
    {
     "data": {
      "image/png": "[encoded data removed]",
      "text/plain": [
       "<Figure size 432x288 with 1 Axes>"
      ]
     },
     "metadata": {
      "needs_background": "light"
     },
     "output_type": "display_data"
    }
   ],
   "source": [
    "# Create plot\n",
    "fig = plt.figure()\n",
    "ax = fig.add_subplot(1, 1, 1)\n",
    "ax.scatter(Nike[\"Retweetsdb\"],Nike[\"Close\"] , alpha=0.8, color = \"red\", edgecolors='none', s=30, label=\"Nike\")\n",
    "ax.scatter(Googledf[\"Retweetsdb\"],Googledf[\"Close\"] , alpha=0.8, color = \"blue\", edgecolors='none', s=30, label=\"Google\")\n",
    "ax.scatter(Disneydf[\"Retweetsdb\"],Disneydf[\"Close\"] , alpha=0.8, color =  \"green\", edgecolors='none', s=30, label=\"Disney\")\n",
    "ax.scatter(Microsoftdf[\"Retweetsdb\"], Microsoftdf[\"Close\"] , alpha=0.8, color =  \"purple\", edgecolors='none', s=30, label=\"Microsoft\")\n",
    "ax.scatter(Inteldf[\"Retweetsdb\"], Inteldf[\"Close\"] , alpha=0.8, color =  \"orange\", edgecolors='none', s=30, label=\"Intel\")\n",
    "ax.scatter(Cocacoladf[\"Retweetsdb\"], Cocacoladf[\"Close\"] , alpha=0.8, color =  \"Black\", edgecolors='none', s=30, label=\"Coca-Cola\")\n",
    "ax.scatter(Amazondf[\"Retweetsdb\"], Amazondf[\"Close\"] , alpha=0.8, color =  \"cyan\", edgecolors='none', s=30, label=\"Amazon\")\n",
    "ax.scatter(Targetdf[\"Retweetsdb\"], Targetdf[\"Close\"] , alpha=0.8, color =  \"brown\", edgecolors='none', s=30, label=\"Target\")\n",
    "ax.scatter(Verizondf[\"Retweetsdb\"], Verizondf[\"Close\"] , alpha=0.8, color =  \"indigo\", edgecolors='none', s=30, label=\"verizon\")\n",
    "\n",
    "\n",
    "plt.title('Test')\n",
    "plt.legend(loc=2)\n",
    "plt.show()"
   ]
  },
  {
   "cell_type": "code",
   "execution_count": 503,
   "metadata": {},
   "outputs": [],
   "source": [
    "Googleplot = pd.DataFrame({\"GoogleX\": Googledf[\"Googledb\"], \"GoogleY\": Googledf[\"Sentimentdb\"], \"GoogleZ\": Googledf[\"Retweetsdb\"]})\n",
    "Disneyplot = pd.DataFrame({\"DisneyX\": Disneydf[\"Googledb\"], \"DisneyY\": Disneydf[\"Sentimentdb\"], \"DisneyZ\": Disneydf[\"Retweetsdb\"]})\n",
    "Nikeplot = pd.DataFrame({\"NikeX\": Nike[\"Googledb\"], \"NikeY\": Nike[\"Sentimentdb\"], \"NikeZ\": Nike[\"Retweetsdb\"]})\n",
    "Microsoftplot = pd.DataFrame({\"MicrosoftX\": Microsoftdf[\"Googledb\"], \"MicrosoftY\": Microsoftdf[\"Sentimentdb\"], \"MicrosoftZ\": Microsoftdf[\"Retweetsdb\"]})\n",
    "Intelplot = pd.DataFrame({\"IntelX\": Inteldf[\"Googledb\"], \"IntelY\": Inteldf[\"Sentimentdb\"], \"IntelZ\": Inteldf[\"Retweetsdb\"]})\n",
    "Appleplot = pd.DataFrame({\"AppleX\": Appledf[\"Googledb\"], \"AppleY\": Appledf[\"Sentimentdb\"], \"AppleZ\": Appledf[\"Retweetsdb\"]})\n",
    "Cocacolaplot = pd.DataFrame({\"CocacolaX\": Cocacoladf[\"Googledb\"], \"CocacolaY\": Cocacoladf[\"Sentimentdb\"], \"CocacolaZ\": Cocacoladf[\"Retweetsdb\"]})\n",
    "Amazonplot = pd.DataFrame({\"AmazonX\": Amazondf[\"Googledb\"], \"AmazonY\": Amazondf[\"Sentimentdb\"], \"AmazonZ\": Amazondf[\"Retweetsdb\"]})\n",
    "Verizonplot = pd.DataFrame({\"VerizonX\": Verizondf[\"Googledb\"], \"VerizonY\": Verizondf[\"Sentimentdb\"], \"VerizonZ\": Verizondf[\"Retweetsdb\"]})\n",
    "Targetplot = pd.DataFrame({\"TargetX\": Targetdf[\"Googledb\"], \"TargetY\": Targetdf[\"Sentimentdb\"], \"TargetZ\": Targetdf[\"Retweetsdb\"]})\n",
    "\n",
    "\n",
    "\n",
    "for df in (Googleplot, Disneyplot, Nikeplot, Microsoftplot, Intelplot):\n",
    "    for n in range(0, 2):\n",
    "        df.iloc[:, n] = df.iloc[:, n] * 100 / df.sum(axis=1)\n",
    "import ternary as tn"
   ]
  },
  {
   "cell_type": "code",
   "execution_count": 505,
   "metadata": {},
   "outputs": [
    {
     "data": {
      "text/plain": [
       "<matplotlib.legend.Legend at 0x25aaf91d508>"
      ]
     },
     "execution_count": 505,
     "metadata": {},
     "output_type": "execute_result"
    },
    {
     "data": {
      "image/png": "[encoded data removed]",
      "text/plain": [
       "<Figure size 360x324 with 1 Axes>"
      ]
     },
     "metadata": {
      "needs_background": "light"
     },
     "output_type": "display_data"
    }
   ],
   "source": [
    "fig, tax = tn.figure(scale=100)\n",
    "fig.set_size_inches(5, 4.5)\n",
    "\n",
    "tax.scatter(Googleplot.values, label = \"Google\")\n",
    "tax.scatter(Disneyplot.values, label = \"Disney\")\n",
    "tax.scatter(Nikeplot.values, label = \"Nike\")\n",
    "tax.scatter(Microsoftplot.values, label = \"Microsoft\")\n",
    "tax.scatter(Intelplot.values, Label = \"Intel\")\n",
    "tax.scatter(Appleplot.values, Label = \"Apple\")\n",
    "tax.scatter(Cocacolaplot.values, Label = \"Coca-Cola\")\n",
    "tax.scatter(Amazonplot.values, Label = \"Amazon\")\n",
    "tax.scatter(Verizonplot.values, Label = \"Verizon\")\n",
    "tax.scatter(Targetplot.values, Label = \"Target\")\n",
    "\n",
    "\n",
    "tax.gridlines(multiple=20)\n",
    "tax.get_axes().axis('on')\n",
    "plt.legend(loc=2)\n"
   ]
  },
  {
   "cell_type": "code",
   "execution_count": 608,
   "metadata": {},
   "outputs": [],
   "source": [
    "Topplot = pd.DataFrame({\"TopX\": topten[\"Googledb\"], \"TopY\": topten[\"Sentimentdb\"], \"TopZ\": topten[\"Retweetsdb\"]})"
   ]
  },
  {
   "cell_type": "code",
   "execution_count": 617,
   "metadata": {},
   "outputs": [
    {
     "data": {
      "text/plain": [
       "<matplotlib.legend.Legend at 0x25aaa03f308>"
      ]
     },
     "execution_count": 617,
     "metadata": {},
     "output_type": "execute_result"
    },
    {
     "data": {
      "image/png": "[encoded data removed]",
      "text/plain": [
       "<Figure size 360x324 with 1 Axes>"
      ]
     },
     "metadata": {
      "needs_background": "light"
     },
     "output_type": "display_data"
    }
   ],
   "source": [
    "import matplotlib.colors as mcolors\n",
    "fig, tax = tn.figure(scale=100)\n",
    "fig.set_size_inches(5, 4.5)\n",
    "tax.scatter(Topplot.values, Label = \"All\", c = topten[\"Color\"], cmap = \"Greys\")\n",
    "tax.gridlines(multiple=20)\n",
    "tax.get_axes().axis('on')\n",
    "plt.legend(loc=2)\n"
   ]
  },
  {
   "cell_type": "code",
   "execution_count": null,
   "metadata": {},
   "outputs": [],
   "source": []
  },
  {
   "cell_type": "code",
   "execution_count": null,
   "metadata": {},
   "outputs": [],
   "source": []
  }
 ],
 "metadata": {
  "kernelspec": {
   "display_name": "Python 3",
   "language": "python",
   "name": "python3"
  },
  "language_info": {
   "codemirror_mode": {
    "name": "ipython",
    "version": 3
   },
   "file_extension": ".py",
   "mimetype": "text/x-python",
   "name": "python",
   "nbconvert_exporter": "python",
   "pygments_lexer": "ipython3",
   "version": "3.7.4"
  }
 },
 "nbformat": 4,
 "nbformat_minor": 2
}
